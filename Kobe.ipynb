{
 "cells": [
  {
   "cell_type": "code",
   "execution_count": 1,
   "metadata": {
    "collapsed": false
   },
   "outputs": [
    {
     "data": {
      "application/javascript": [
       "IPython.notebook.set_autosave_interval(15000)"
      ]
     },
     "metadata": {},
     "output_type": "display_data"
    },
    {
     "name": "stdout",
     "output_type": "stream",
     "text": [
      "Autosaving every 15 seconds\n"
     ]
    }
   ],
   "source": [
    "%matplotlib inline\n",
    "%load_ext autoreload\n",
    "%autoreload 5\n",
    "%autosave 15\n",
    "\n",
    "import pandas as pd\n",
    "import numpy as np\n",
    "\n",
    "import seaborn as sns\n",
    "import matplotlib.pyplot as plt\n",
    "\n",
    "import xgboost as xgb\n",
    "from sklearn.ensemble import RandomForestClassifier\n",
    "from sklearn.linear_model import LinearRegression\n",
    "from sklearn.metrics import log_loss, accuracy_score\n",
    "from sklearn.cross_validation import cross_val_score, train_test_split"
   ]
  },
  {
   "cell_type": "code",
   "execution_count": 2,
   "metadata": {
    "collapsed": false,
    "scrolled": true
   },
   "outputs": [
    {
     "data": {
      "text/html": [
       "<div>\n",
       "<table border=\"1\" class=\"dataframe\">\n",
       "  <thead>\n",
       "    <tr style=\"text-align: right;\">\n",
       "      <th></th>\n",
       "      <th>shot_distance</th>\n",
       "      <th>shot_made_flag</th>\n",
       "      <th>shot_id</th>\n",
       "      <th>last_moment</th>\n",
       "      <th>away</th>\n",
       "      <th>period_1</th>\n",
       "      <th>period_2</th>\n",
       "      <th>period_3</th>\n",
       "      <th>period_4</th>\n",
       "      <th>period_5</th>\n",
       "      <th>...</th>\n",
       "      <th>opponent_PHI</th>\n",
       "      <th>opponent_PHX</th>\n",
       "      <th>opponent_POR</th>\n",
       "      <th>opponent_SAC</th>\n",
       "      <th>opponent_SAS</th>\n",
       "      <th>opponent_SEA</th>\n",
       "      <th>opponent_TOR</th>\n",
       "      <th>opponent_UTA</th>\n",
       "      <th>opponent_VAN</th>\n",
       "      <th>opponent_WAS</th>\n",
       "    </tr>\n",
       "  </thead>\n",
       "  <tbody>\n",
       "    <tr>\n",
       "      <th>0</th>\n",
       "      <td>18</td>\n",
       "      <td>NaN</td>\n",
       "      <td>1</td>\n",
       "      <td>False</td>\n",
       "      <td>True</td>\n",
       "      <td>1.0</td>\n",
       "      <td>0.0</td>\n",
       "      <td>0.0</td>\n",
       "      <td>0.0</td>\n",
       "      <td>0.0</td>\n",
       "      <td>...</td>\n",
       "      <td>0.0</td>\n",
       "      <td>0.0</td>\n",
       "      <td>1.0</td>\n",
       "      <td>0.0</td>\n",
       "      <td>0.0</td>\n",
       "      <td>0.0</td>\n",
       "      <td>0.0</td>\n",
       "      <td>0.0</td>\n",
       "      <td>0.0</td>\n",
       "      <td>0.0</td>\n",
       "    </tr>\n",
       "    <tr>\n",
       "      <th>1</th>\n",
       "      <td>15</td>\n",
       "      <td>0.0</td>\n",
       "      <td>2</td>\n",
       "      <td>False</td>\n",
       "      <td>True</td>\n",
       "      <td>1.0</td>\n",
       "      <td>0.0</td>\n",
       "      <td>0.0</td>\n",
       "      <td>0.0</td>\n",
       "      <td>0.0</td>\n",
       "      <td>...</td>\n",
       "      <td>0.0</td>\n",
       "      <td>0.0</td>\n",
       "      <td>1.0</td>\n",
       "      <td>0.0</td>\n",
       "      <td>0.0</td>\n",
       "      <td>0.0</td>\n",
       "      <td>0.0</td>\n",
       "      <td>0.0</td>\n",
       "      <td>0.0</td>\n",
       "      <td>0.0</td>\n",
       "    </tr>\n",
       "    <tr>\n",
       "      <th>2</th>\n",
       "      <td>16</td>\n",
       "      <td>1.0</td>\n",
       "      <td>3</td>\n",
       "      <td>False</td>\n",
       "      <td>True</td>\n",
       "      <td>1.0</td>\n",
       "      <td>0.0</td>\n",
       "      <td>0.0</td>\n",
       "      <td>0.0</td>\n",
       "      <td>0.0</td>\n",
       "      <td>...</td>\n",
       "      <td>0.0</td>\n",
       "      <td>0.0</td>\n",
       "      <td>1.0</td>\n",
       "      <td>0.0</td>\n",
       "      <td>0.0</td>\n",
       "      <td>0.0</td>\n",
       "      <td>0.0</td>\n",
       "      <td>0.0</td>\n",
       "      <td>0.0</td>\n",
       "      <td>0.0</td>\n",
       "    </tr>\n",
       "    <tr>\n",
       "      <th>3</th>\n",
       "      <td>22</td>\n",
       "      <td>0.0</td>\n",
       "      <td>4</td>\n",
       "      <td>False</td>\n",
       "      <td>True</td>\n",
       "      <td>1.0</td>\n",
       "      <td>0.0</td>\n",
       "      <td>0.0</td>\n",
       "      <td>0.0</td>\n",
       "      <td>0.0</td>\n",
       "      <td>...</td>\n",
       "      <td>0.0</td>\n",
       "      <td>0.0</td>\n",
       "      <td>1.0</td>\n",
       "      <td>0.0</td>\n",
       "      <td>0.0</td>\n",
       "      <td>0.0</td>\n",
       "      <td>0.0</td>\n",
       "      <td>0.0</td>\n",
       "      <td>0.0</td>\n",
       "      <td>0.0</td>\n",
       "    </tr>\n",
       "    <tr>\n",
       "      <th>4</th>\n",
       "      <td>0</td>\n",
       "      <td>1.0</td>\n",
       "      <td>5</td>\n",
       "      <td>False</td>\n",
       "      <td>True</td>\n",
       "      <td>0.0</td>\n",
       "      <td>1.0</td>\n",
       "      <td>0.0</td>\n",
       "      <td>0.0</td>\n",
       "      <td>0.0</td>\n",
       "      <td>...</td>\n",
       "      <td>0.0</td>\n",
       "      <td>0.0</td>\n",
       "      <td>1.0</td>\n",
       "      <td>0.0</td>\n",
       "      <td>0.0</td>\n",
       "      <td>0.0</td>\n",
       "      <td>0.0</td>\n",
       "      <td>0.0</td>\n",
       "      <td>0.0</td>\n",
       "      <td>0.0</td>\n",
       "    </tr>\n",
       "  </tbody>\n",
       "</table>\n",
       "<p>5 rows × 84 columns</p>\n",
       "</div>"
      ],
      "text/plain": [
       "   shot_distance  shot_made_flag  shot_id last_moment  away  period_1  \\\n",
       "0             18             NaN        1       False  True       1.0   \n",
       "1             15             0.0        2       False  True       1.0   \n",
       "2             16             1.0        3       False  True       1.0   \n",
       "3             22             0.0        4       False  True       1.0   \n",
       "4              0             1.0        5       False  True       0.0   \n",
       "\n",
       "   period_2  period_3  period_4  period_5      ...       opponent_PHI  \\\n",
       "0       0.0       0.0       0.0       0.0      ...                0.0   \n",
       "1       0.0       0.0       0.0       0.0      ...                0.0   \n",
       "2       0.0       0.0       0.0       0.0      ...                0.0   \n",
       "3       0.0       0.0       0.0       0.0      ...                0.0   \n",
       "4       1.0       0.0       0.0       0.0      ...                0.0   \n",
       "\n",
       "   opponent_PHX  opponent_POR  opponent_SAC  opponent_SAS  opponent_SEA  \\\n",
       "0           0.0           1.0           0.0           0.0           0.0   \n",
       "1           0.0           1.0           0.0           0.0           0.0   \n",
       "2           0.0           1.0           0.0           0.0           0.0   \n",
       "3           0.0           1.0           0.0           0.0           0.0   \n",
       "4           0.0           1.0           0.0           0.0           0.0   \n",
       "\n",
       "   opponent_TOR  opponent_UTA  opponent_VAN  opponent_WAS  \n",
       "0           0.0           0.0           0.0           0.0  \n",
       "1           0.0           0.0           0.0           0.0  \n",
       "2           0.0           0.0           0.0           0.0  \n",
       "3           0.0           0.0           0.0           0.0  \n",
       "4           0.0           0.0           0.0           0.0  \n",
       "\n",
       "[5 rows x 84 columns]"
      ]
     },
     "execution_count": 2,
     "metadata": {},
     "output_type": "execute_result"
    }
   ],
   "source": [
    "# load data\n",
    "data = pd.read_csv('data.csv')\n",
    "\n",
    "total_actions = dict(data.action_type.value_counts())\n",
    "# TODO: tune this parameter\n",
    "threshold = 100\n",
    "# TODO: check if it's needed\n",
    "data['type'] = data.apply(lambda row: row['action_type'] if total_actions[row['action_type']] >= threshold \\\n",
    "                          else row['combined_shot_type'], axis=1)\n",
    "data['time_remaining'] = data.apply(lambda row: row['minutes_remaining'] * 60 + row['seconds_remaining'], axis=1)\n",
    "\n",
    "# TODO: tune this parameter\n",
    "threshold = 3\n",
    "# TODO: find out why he cant hit @ 14 secs to go\n",
    "anomaly = 14\n",
    "data['last_moment'] = data.apply(lambda row: row['time_remaining'] < threshold or row['time_remaining'] == anomaly, axis=1)\n",
    "data['away'] = data.matchup.str.contains('@')\n",
    "data['season'] = data.apply(lambda row: int(row['season'].split('-')[0]), axis=1)\n",
    "\n",
    "# remove outliers\n",
    "data['shot_distance'] = data.apply(lambda row: 28 if row['shot_distance'] > 28 else row['shot_distance'], axis=1)\n",
    "\n",
    "def get_acc(data, field):\n",
    "    ct = pd.crosstab(data.shot_made_flag, data[field]).apply(lambda x: x / x.sum(), axis=0)\n",
    "    x, y = ct.columns, ct.values[1, :]\n",
    "    plt.figure(figsize=(7, 5))\n",
    "    plt.plot(x, y)\n",
    "    plt.xlabel(field)\n",
    "    plt.ylabel('% shots made')\n",
    "    plt.show()\n",
    "    \n",
    "def sort_encode(data, field):\n",
    "    ct = pd.crosstab(data.shot_made_flag, data[field]).apply(lambda x: x / x.sum(), axis=0)\n",
    "    temp = list(zip(ct.values[1, :], ct.columns))\n",
    "    temp.sort()\n",
    "    new_map = {}\n",
    "    for index, (acc, old_number) in enumerate(temp):\n",
    "        new_map[old_number] = index\n",
    "    new_field = field + '_sort_enumerated'\n",
    "    data[new_field] = data[field].map(new_map)\n",
    "    get_acc(data, new_field)\n",
    "\n",
    "data.drop([\n",
    "        'action_type',\n",
    "        'combined_shot_type',\n",
    "        'game_event_id',\n",
    "        'game_id',\n",
    "        'lat',\n",
    "        'lon',\n",
    "        'minutes_remaining',\n",
    "        'seconds_remaining',\n",
    "        'time_remaining',\n",
    "        'team_id',\n",
    "        'team_name',\n",
    "        'matchup',\n",
    "        'game_date',\n",
    "        'shot_type',\n",
    "        'playoffs',\n",
    "        'season',\n",
    "        # TODO: find out whether these two features matter or not\n",
    "        'loc_x',\n",
    "        'loc_y',\n",
    "    ], axis=1, inplace=True)\n",
    "\n",
    "dummies = [\n",
    "    'period',\n",
    "    'type',\n",
    "    'shot_zone_area',\n",
    "    'shot_zone_basic',\n",
    "    'shot_zone_range',\n",
    "    'opponent', #TODO: check if it's needed\n",
    "]\n",
    "dummie_counter = {}\n",
    "for dummy in dummies:\n",
    "    dummie_counter[dummy] = len(data[dummy].unique())\n",
    "data = pd.get_dummies(data, columns=dummies)\n",
    "data.head()"
   ]
  },
  {
   "cell_type": "code",
   "execution_count": 3,
   "metadata": {
    "collapsed": false
   },
   "outputs": [
    {
     "name": "stdout",
     "output_type": "stream",
     "text": [
      "shot_distance: 29\n",
      "last_moment: 2\n",
      "away: 2\n",
      "period_1: 2\n",
      "period_2: 2\n",
      "period_3: 2\n",
      "period_4: 2\n",
      "period_5: 2\n",
      "period_6: 2\n",
      "period_7: 2\n",
      "type_Alley Oop Dunk Shot: 2\n",
      "type_Bank Shot: 2\n",
      "type_Driving Dunk Shot: 2\n",
      "type_Driving Layup Shot: 2\n",
      "type_Dunk: 2\n",
      "type_Dunk Shot: 2\n",
      "type_Fadeaway Jump Shot: 2\n",
      "type_Floating Jump shot: 2\n",
      "type_Hook Shot: 2\n",
      "type_Jump Bank Shot: 2\n",
      "type_Jump Shot: 2\n",
      "type_Layup: 2\n",
      "type_Layup Shot: 2\n",
      "type_Pullup Jump shot: 2\n",
      "type_Reverse Layup Shot: 2\n",
      "type_Running Jump Shot: 2\n",
      "type_Slam Dunk Shot: 2\n",
      "type_Step Back Jump shot: 2\n",
      "type_Tip Shot: 2\n",
      "type_Turnaround Fadeaway shot: 2\n",
      "type_Turnaround Jump Shot: 2\n",
      "shot_zone_area_Back Court(BC): 2\n",
      "shot_zone_area_Center(C): 2\n",
      "shot_zone_area_Left Side Center(LC): 2\n",
      "shot_zone_area_Left Side(L): 2\n",
      "shot_zone_area_Right Side Center(RC): 2\n",
      "shot_zone_area_Right Side(R): 2\n",
      "shot_zone_basic_Above the Break 3: 2\n",
      "shot_zone_basic_Backcourt: 2\n",
      "shot_zone_basic_In The Paint (Non-RA): 2\n",
      "shot_zone_basic_Left Corner 3: 2\n",
      "shot_zone_basic_Mid-Range: 2\n",
      "shot_zone_basic_Restricted Area: 2\n",
      "shot_zone_basic_Right Corner 3: 2\n",
      "shot_zone_range_16-24 ft.: 2\n",
      "shot_zone_range_24+ ft.: 2\n",
      "shot_zone_range_8-16 ft.: 2\n",
      "shot_zone_range_Back Court Shot: 2\n",
      "shot_zone_range_Less Than 8 ft.: 2\n",
      "opponent_ATL: 2\n",
      "opponent_BKN: 2\n",
      "opponent_BOS: 2\n",
      "opponent_CHA: 2\n",
      "opponent_CHI: 2\n",
      "opponent_CLE: 2\n",
      "opponent_DAL: 2\n",
      "opponent_DEN: 2\n",
      "opponent_DET: 2\n",
      "opponent_GSW: 2\n",
      "opponent_HOU: 2\n",
      "opponent_IND: 2\n",
      "opponent_LAC: 2\n",
      "opponent_MEM: 2\n",
      "opponent_MIA: 2\n",
      "opponent_MIL: 2\n",
      "opponent_MIN: 2\n",
      "opponent_NJN: 2\n",
      "opponent_NOH: 2\n",
      "opponent_NOP: 2\n",
      "opponent_NYK: 2\n",
      "opponent_OKC: 2\n",
      "opponent_ORL: 2\n",
      "opponent_PHI: 2\n",
      "opponent_PHX: 2\n",
      "opponent_POR: 2\n",
      "opponent_SAC: 2\n",
      "opponent_SAS: 2\n",
      "opponent_SEA: 2\n",
      "opponent_TOR: 2\n",
      "opponent_UTA: 2\n",
      "opponent_VAN: 2\n",
      "opponent_WAS: 2\n"
     ]
    }
   ],
   "source": [
    "for col in data.columns.tolist():\n",
    "    if col not in ['shot_made_flag', 'shot_id']:\n",
    "        print(col + ': ' + str(len(data[col].unique())))"
   ]
  },
  {
   "cell_type": "code",
   "execution_count": 4,
   "metadata": {
    "collapsed": false
   },
   "outputs": [
    {
     "name": "stdout",
     "output_type": "stream",
     "text": [
      "train size: 25697\n",
      "test size:  5000\n",
      "(25697, 82)\n",
      "(25697,)\n"
     ]
    }
   ],
   "source": [
    "# split into train and test\n",
    "train = data[~data['shot_made_flag'].isnull()]\n",
    "test = data[data['shot_made_flag'].isnull()]\n",
    "print('train size: ' + str(len(train)))\n",
    "print('test size:  ' + str(len(test)))\n",
    "\n",
    "# prepare data for estimators\n",
    "target = 'shot_made_flag'\n",
    "features = data.columns.tolist()\n",
    "features.remove(target)\n",
    "features.remove('shot_id')\n",
    "X_test = test[features]\n",
    "X_train = train[features]\n",
    "y_train = train[[target]]['shot_made_flag'].values\n",
    "print(X_train.shape)\n",
    "print(y_train.shape)"
   ]
  },
  {
   "cell_type": "code",
   "execution_count": 5,
   "metadata": {
    "collapsed": false
   },
   "outputs": [],
   "source": [
    "def modelfit(alg, dtrain, predictors, useTrainCV=True, cv_folds=5, early_stopping_rounds=50):    \n",
    "    if useTrainCV:\n",
    "        xgb_param = alg.get_xgb_params()\n",
    "        xgtrain = xgb.DMatrix(dtrain[predictors].values, label=dtrain[target].values)\n",
    "        cvresult = xgb.cv(xgb_param, xgtrain, num_boost_round=alg.get_params()['n_estimators'], nfold=cv_folds,\n",
    "                          early_stopping_rounds=early_stopping_rounds, metrics=['logloss'], show_progress=False)\n",
    "        alg.set_params(n_estimators=cvresult.shape[0])\n",
    "    \n",
    "    # Test params\n",
    "    X_train, X_valid, y_train, y_valid = train_test_split(dtrain[predictors], dtrain[target], test_size=0.2)\n",
    "    alg.fit(X_train, y_train, eval_metric='logloss')\n",
    "    y_pred = alg.predict_proba(X_valid)[:,1]\n",
    "    \n",
    "    result = log_loss(y_valid, y_pred)\n",
    "    print(result)\n",
    "    return result"
   ]
  },
  {
   "cell_type": "code",
   "execution_count": 6,
   "metadata": {
    "collapsed": false,
    "scrolled": true
   },
   "outputs": [
    {
     "name": "stderr",
     "output_type": "stream",
     "text": [
      "Will train until cv error hasn't decreased in 50 rounds.\n"
     ]
    },
    {
     "name": "stdout",
     "output_type": "stream",
     "text": [
      "0.601607967617\n"
     ]
    },
    {
     "name": "stderr",
     "output_type": "stream",
     "text": [
      "Will train until cv error hasn't decreased in 50 rounds.\n",
      "Stopping. Best iteration: 134\n"
     ]
    },
    {
     "name": "stdout",
     "output_type": "stream",
     "text": [
      "0.601530414511\n"
     ]
    },
    {
     "name": "stderr",
     "output_type": "stream",
     "text": [
      "Will train until cv error hasn't decreased in 50 rounds.\n",
      "Stopping. Best iteration: 105\n"
     ]
    },
    {
     "name": "stdout",
     "output_type": "stream",
     "text": [
      "0.601412305185\n"
     ]
    },
    {
     "name": "stderr",
     "output_type": "stream",
     "text": [
      "Will train until cv error hasn't decreased in 50 rounds.\n",
      "Stopping. Best iteration: 86\n"
     ]
    },
    {
     "name": "stdout",
     "output_type": "stream",
     "text": [
      "0.602243688355\n"
     ]
    },
    {
     "name": "stderr",
     "output_type": "stream",
     "text": [
      "Will train until cv error hasn't decreased in 50 rounds.\n",
      "Stopping. Best iteration: 73\n"
     ]
    },
    {
     "name": "stdout",
     "output_type": "stream",
     "text": [
      "0.60334081232\n"
     ]
    },
    {
     "data": {
      "text/plain": [
       "<matplotlib.text.Text at 0x7f213ad932e8>"
      ]
     },
     "execution_count": 6,
     "metadata": {},
     "output_type": "execute_result"
    },
    {
     "data": {
      "image/png": "[encoded data removed]",
      "text/plain": [
       "<matplotlib.figure.Figure at 0x7f213eda35c0>"
      ]
     },
     "metadata": {},
     "output_type": "display_data"
    }
   ],
   "source": [
    "params = {\n",
    "    'base_score': 0.5, \n",
    "    'colsample_bylevel': 1,\n",
    "    'colsample_bytree': 0.8,\n",
    "    'learning_rate': 0.05,\n",
    "    'max_depth': 6,\n",
    "    'min_child_weight': 1,\n",
    "    'n_estimators': 200,\n",
    "    'nthread': -1,\n",
    "    'objective': 'binary:logistic',\n",
    "    'seed': 27,\n",
    "    'silent': True,\n",
    "    'subsample': 0.8\n",
    "}\n",
    "clf = xgb.XGBClassifier()\n",
    "\n",
    "logloss = []\n",
    "tuning_param = 'max_depth'\n",
    "param_values = range(5, 10)\n",
    "for i in param_values:\n",
    "    params[tuning_param] = i\n",
    "    clf.set_params(**params)\n",
    "    logloss.append(modelfit(clf, train, features))\n",
    "plt.plot(param_values, logloss)\n",
    "plt.xlabel(tuning_param)\n",
    "plt.ylabel('logloss')"
   ]
  },
  {
   "cell_type": "code",
   "execution_count": 7,
   "metadata": {
    "collapsed": false,
    "scrolled": true
   },
   "outputs": [],
   "source": [
    "# fit, predict and generate submission file\n",
    "clf = xgb.XGBClassifier()\n",
    "clf.set_params(**params)\n",
    "clf.fit(X_train, y_train)\n",
    "test.shot_made_flag = [i[1] for i in clf.predict_proba(X_test)]\n",
    "test[['shot_id', 'shot_made_flag']].to_csv('sub.csv', index=False)"
   ]
  },
  {
   "cell_type": "code",
   "execution_count": 8,
   "metadata": {
    "collapsed": false
   },
   "outputs": [
    {
     "data": {
      "text/plain": [
       "<matplotlib.axes._subplots.AxesSubplot at 0x7f2137791d68>"
      ]
     },
     "execution_count": 8,
     "metadata": {},
     "output_type": "execute_result"
    },
    {
     "data": {
      "image/png": "[encoded data removed]",
      "text/plain": [
       "<matplotlib.figure.Figure at 0x7f21377b8048>"
      ]
     },
     "metadata": {},
     "output_type": "display_data"
    }
   ],
   "source": [
    "# display feature importances\n",
    "# TODO: prettify this code\n",
    "feature_importances = clf.booster().get_fscore()\n",
    "to_pop = []\n",
    "for dummie in dummies:\n",
    "    feature_importances[dummie] = 0\n",
    "for feature in feature_importances:\n",
    "    for dummie in dummies:\n",
    "        if feature.startswith(dummie) and feature not in dummies:\n",
    "            feature_importances[dummie] += feature_importances[feature]\n",
    "            to_pop.append(feature)\n",
    "for feature in to_pop:\n",
    "    feature_importances.pop(feature, None)\n",
    "for dummie in dummies:\n",
    "    feature_importances[dummie] /= dummie_counter[dummie]\n",
    "feat_imp = pd.Series(feature_importances).sort_values(ascending=False)\n",
    "feat_imp.plot(kind='bar', title='Feature Importances')"
   ]
  }
 ],
 "metadata": {
  "kernelspec": {
   "display_name": "Python 3",
   "language": "python",
   "name": "python3"
  },
  "language_info": {
   "codemirror_mode": {
    "name": "ipython",
    "version": 3
   },
   "file_extension": ".py",
   "mimetype": "text/x-python",
   "name": "python",
   "nbconvert_exporter": "python",
   "pygments_lexer": "ipython3",
   "version": "3.5.1"
  }
 },
 "nbformat": 4,
 "nbformat_minor": 0
}
