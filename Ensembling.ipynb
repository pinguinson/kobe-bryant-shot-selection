{
 "cells": [
  {
   "cell_type": "code",
   "execution_count": 1,
   "metadata": {
    "collapsed": false
   },
   "outputs": [
    {
     "data": {
      "application/javascript": [
       "IPython.notebook.set_autosave_interval(15000)"
      ]
     },
     "metadata": {},
     "output_type": "display_data"
    },
    {
     "name": "stdout",
     "output_type": "stream",
     "text": [
      "Autosaving every 15 seconds\n"
     ]
    },
    {
     "name": "stderr",
     "output_type": "stream",
     "text": [
      "Using gpu device 0: GeForce GTX 650 Ti (CNMeM is disabled, CuDNN not available)\n"
     ]
    }
   ],
   "source": [
    "%matplotlib inline\n",
    "%load_ext autoreload\n",
    "%autoreload 5\n",
    "%autosave 15\n",
    "\n",
    "from time import time\n",
    "\n",
    "import pandas as pd\n",
    "import numpy as np\n",
    "\n",
    "import seaborn as sns\n",
    "import matplotlib.pyplot as plt\n",
    "\n",
    "import xgboost as xgb\n",
    "\n",
    "from sklearn.ensemble import RandomForestClassifier, ExtraTreesClassifier\n",
    "from sklearn.linear_model import LinearRegression\n",
    "from sklearn.metrics import log_loss, accuracy_score\n",
    "from sklearn.cross_validation import cross_val_score, train_test_split\n",
    "from sklearn.preprocessing import LabelEncoder\n",
    "from sklearn.preprocessing import StandardScaler\n",
    "\n",
    "from lasagne.layers import DenseLayer\n",
    "from lasagne.layers import InputLayer\n",
    "from lasagne.layers import DropoutLayer\n",
    "from lasagne.nonlinearities import softmax\n",
    "from lasagne.updates import nesterov_momentum\n",
    "from nolearn.lasagne import NeuralNet\n",
    "\n",
    "from loader import load_data"
   ]
  },
  {
   "cell_type": "code",
   "execution_count": 2,
   "metadata": {
    "collapsed": true
   },
   "outputs": [],
   "source": [
    "train_data, test_data, features, target = load_data('data.csv')"
   ]
  },
  {
   "cell_type": "code",
   "execution_count": 3,
   "metadata": {
    "collapsed": false
   },
   "outputs": [],
   "source": [
    "def scale_train_data(data):\n",
    "    X = data.values.copy()\n",
    "    X, labels = X[:, 1:-1].astype(np.float32), X[:, -1]\n",
    "    encoder = LabelEncoder()\n",
    "    y = encoder.fit_transform(labels).astype(np.int32)\n",
    "    scaler = StandardScaler()\n",
    "    X = scaler.fit_transform(X)\n",
    "    print(np.mean(y))\n",
    "    return X, y, encoder, scaler\n",
    "\n",
    "def scale_test_data(data, scaler):\n",
    "    X = data.values.copy()\n",
    "    X, ids = X[:, 1:].astype(np.float32), X[:, 0].astype(str)\n",
    "    X = scaler.transform(X)\n",
    "    return X, ids\n",
    "    \n",
    "def make_submission(clf, X_test, ids, name):\n",
    "    predictions = [i[1] for i in clf.predict_proba(X_test)]\n",
    "    with open(name, 'w') as f:\n",
    "        f.write('shot_id,shot_made_flag\\n')\n",
    "        for i, prob in zip(ids, predictions):\n",
    "            f.write(str(i) + ',' + str(prob) + '\\n')\n",
    "    print('Wrote submission to file {}.'.format(name))\n",
    "    \n",
    "class EarlyStopping(object):\n",
    "    def __init__(self, patience=50):\n",
    "        self.patience = patience\n",
    "        self.best_valid = np.inf\n",
    "        self.best_valid_epoch = 0\n",
    "        self.best_params = None\n",
    "        \n",
    "    def __call__(self, nn, train_history):\n",
    "        current_valid = train_history[-1]['valid_loss']\n",
    "        current_train = train_history[-1]['train_loss']\n",
    "        current_epoch = train_history[-1]['epoch']\n",
    "\n",
    "        if current_train > current_valid:\n",
    "            return\n",
    "        if current_valid < self.best_valid:\n",
    "            self.best_valid = current_valid\n",
    "            self.best_valid_epoch = current_epoch\n",
    "            self.best_params = nn.get_all_params_values()\n",
    "        elif self.best_valid_epoch + self.patience <= current_epoch:\n",
    "            if (nn.verbose > 0):\n",
    "                print('Early stopping')\n",
    "                print('Best valid loss was {:.6f} at epoch {}'.format(self.best_valid, self.best_valid_epoch))\n",
    "            nn.load_params_from(self.best_params)\n",
    "            raise StopIteration()"
   ]
  },
  {
   "cell_type": "code",
   "execution_count": 4,
   "metadata": {
    "collapsed": false
   },
   "outputs": [
    {
     "name": "stdout",
     "output_type": "stream",
     "text": [
      "0.44616103047\n",
      "104\n"
     ]
    }
   ],
   "source": [
    "train_data_parts = [train_data[i::2] for i in range(2)]\n",
    "X_scaled, y_scaled, encoder, scaler = scale_train_data(train_data)\n",
    "X_scaled_parts = [X_scaled[i::2] for i in range(2)]\n",
    "y_scaled_parts = [y_scaled[i::2] for i in range(2)]\n",
    "X_test_scaled, test_ids = scale_test_data(test_data, scaler)\n",
    "num_classes = len(encoder.classes_)\n",
    "num_features = X_scaled.shape[1]\n",
    "print(num_features)"
   ]
  },
  {
   "cell_type": "code",
   "execution_count": 7,
   "metadata": {
    "collapsed": false
   },
   "outputs": [],
   "source": [
    "def process_part(clf, clf_name, part):\n",
    "    if clf_name.startswith('nn'):\n",
    "        clf.fit(X_scaled_parts[part], y_scaled_parts[part])\n",
    "        predicted_other_part = clf.predict_proba(X_scaled_parts[1 - part])[:,1]\n",
    "    else:\n",
    "        clf.fit(train_data_parts[part][features].values, train_data_parts[part][target].values)\n",
    "        predicted_other_part = clf.predict_proba(train_data_parts[1 - part][features].values)[:,1]\n",
    "    train_data_parts[1 - part]['meta_' + clf_name] = predicted_other_part\n",
    "        \n",
    "def process_clf(clf, clf_name):\n",
    "    for i in [0, 1]:\n",
    "        process_part(clf, clf_name, i)\n",
    "    if clf_name.startswith('nn'):\n",
    "        clf.fit(X_scaled, y_scaled)\n",
    "        predicted_test = clf.predict_proba(X_test_scaled)[:,1]\n",
    "    else:\n",
    "        clf.fit(train_data[features], train_data[target])\n",
    "        predicted_test = clf.predict_proba(test_data[features])[:,1]\n",
    "    test_data['meta_' + clf_name] = predicted_test\n",
    "    \n",
    "def process_classificators(classificators):\n",
    "    for clf, name in classificators:\n",
    "        start = time()\n",
    "        process_clf(clf, name)\n",
    "        print('processed ' + name + ' in ' + '{0:.2f}'.format(time() - start))"
   ]
  },
  {
   "cell_type": "code",
   "execution_count": 6,
   "metadata": {
    "collapsed": false
   },
   "outputs": [],
   "source": [
    "classificators = []\n",
    "classificators.append((RandomForestClassifier(n_estimators=300, n_jobs=-1), 'rf'))\n",
    "classificators.append((ExtraTreesClassifier(n_estimators=300, n_jobs=-1), 'et'))\n",
    "\n",
    "xgb_params = {\n",
    "    'base_score': 0.5, \n",
    "    'colsample_bylevel': 1,\n",
    "    'colsample_bytree': 0.8,\n",
    "    'learning_rate': 0.01,\n",
    "    'max_depth': 8,\n",
    "    'min_child_weight': 1,\n",
    "    'n_estimators': 600,\n",
    "    'nthread': -1,\n",
    "    'objective': 'binary:logistic',\n",
    "    'seed': 27,\n",
    "    'silent': True,\n",
    "    'subsample': 0.8\n",
    "}\n",
    "classificators.append((xgb.XGBClassifier().set_params(**xgb_params), 'xgb'))\n",
    "\n",
    "early_stopping = EarlyStopping(patience=10)\n",
    "layers0 = [('input', InputLayer),\n",
    "           ('dense1', DenseLayer),\n",
    "           ('dropout1', DropoutLayer),\n",
    "           ('dense2', DenseLayer),\n",
    "           ('output', DenseLayer)]\n",
    "\n",
    "net0 = NeuralNet(layers=layers0,\n",
    "                 \n",
    "                 input_shape=(None, num_features),\n",
    "                 dense1_num_units=200,\n",
    "                 dropout1_p=0.5,\n",
    "                 dense2_num_units=200,\n",
    "                 output_num_units=num_classes,\n",
    "                 output_nonlinearity=softmax,\n",
    "                 \n",
    "                 update=nesterov_momentum,\n",
    "                 update_learning_rate=0.01,\n",
    "                 update_momentum=0.9,\n",
    "                 \n",
    "                 on_epoch_finished=[early_stopping],\n",
    "                 \n",
    "                 eval_size=0.2,\n",
    "                 verbose=0,\n",
    "                 max_epochs=100)\n",
    "classificators.append((net0, 'nn'))"
   ]
  },
  {
   "cell_type": "code",
   "execution_count": 8,
   "metadata": {
    "collapsed": false
   },
   "outputs": [
    {
     "name": "stdout",
     "output_type": "stream",
     "text": [
      "processed rf in 21.59\n",
      "processed et in 29.28\n",
      "processed xgb in 105.77\n",
      "processed nn in 11.37\n"
     ]
    }
   ],
   "source": [
    "process_classificators(classificators)"
   ]
  },
  {
   "cell_type": "code",
   "execution_count": 9,
   "metadata": {
    "collapsed": true
   },
   "outputs": [],
   "source": [
    "def lvl2_xgb():\n",
    "    params = {\n",
    "        'base_score': 0.5, \n",
    "        'colsample_bylevel': 1,\n",
    "        'colsample_bytree': 0.8,\n",
    "        'learning_rate': 0.01,\n",
    "        'max_depth': 8,\n",
    "        'min_child_weight': 1,\n",
    "        'n_estimators': 600,\n",
    "        'nthread': -1,\n",
    "        'objective': 'binary:logistic',\n",
    "        'seed': 27,\n",
    "        'silent': True,\n",
    "        'subsample': 0.8\n",
    "    }\n",
    "    clf = xgb.XGBClassifier()\n",
    "    clf.set_params(**params)\n",
    "    clf.fit(train_meta[features].values, train_meta[target].values)\n",
    "    predicted_test = clf.predict_proba(test_data[features].values)[:,1]\n",
    "    return predicted_test\n",
    "\n",
    "def lvl2_nn():\n",
    "    early_stopping = EarlyStopping(patience=10)\n",
    "    layers0 = [('input', InputLayer),\n",
    "               ('dense1', DenseLayer),\n",
    "               ('dropout1', DropoutLayer),\n",
    "               ('dense2', DenseLayer),\n",
    "               ('output', DenseLayer)]\n",
    "\n",
    "    clf = NeuralNet(layers=layers0,\n",
    "                        input_shape=(None, num_features),\n",
    "                        dense1_num_units=200,\n",
    "                        dropout1_p=0.5,\n",
    "                        dense2_num_units=200,\n",
    "                        output_num_units=num_classes,\n",
    "                        output_nonlinearity=softmax,\n",
    "                 \n",
    "                        update=nesterov_momentum,\n",
    "                        update_learning_rate=0.01,\n",
    "                        update_momentum=0.9,\n",
    "                 \n",
    "                        on_epoch_finished=[early_stopping],\n",
    "                 \n",
    "                        eval_size=0.2,\n",
    "                        verbose=0,\n",
    "                        max_epochs=100)\n",
    "    clf.fit(X_scaled, y_scaled)\n",
    "    predicted_test = clf.predict_proba(X_test_scaled)[:,1]\n",
    "    return predicted_test\n",
    "\n",
    "def make_submission(ids, predictions, name):\n",
    "    with open(name, 'w') as f:\n",
    "        f.write('shot_id,shot_made_flag\\n')\n",
    "        for i, prob in zip(ids, predictions):\n",
    "            f.write(str(i) + ',' + str(prob) + '\\n')\n",
    "    print('Wrote submission to file {}.'.format(name))"
   ]
  },
  {
   "cell_type": "code",
   "execution_count": 21,
   "metadata": {
    "collapsed": false
   },
   "outputs": [
    {
     "name": "stdout",
     "output_type": "stream",
     "text": [
      "0.44616103047\n",
      "108\n"
     ]
    },
    {
     "data": {
      "text/plain": [
       "XGBClassifier(base_score=0.5, colsample_bylevel=1, colsample_bytree=0.8,\n",
       "       gamma=0, learning_rate=0.01, max_delta_step=0, max_depth=8,\n",
       "       min_child_weight=1, missing=None, n_estimators=600, nthread=-1,\n",
       "       objective='binary:logistic', reg_alpha=0, reg_lambda=1,\n",
       "       scale_pos_weight=1, seed=27, silent=True, subsample=0.8)"
      ]
     },
     "execution_count": 21,
     "metadata": {},
     "output_type": "execute_result"
    }
   ],
   "source": [
    "train_meta = pd.concat([train_data_parts[0], train_data_parts[1]]).sort()\n",
    "cols = train_meta.columns.tolist()\n",
    "cols.remove('shot_made_flag')\n",
    "cols.append('shot_made_flag')\n",
    "X_scaled, y_scaled, encoder, scaler = scale_train_data(train_meta[cols])\n",
    "X_test_scaled, test_ids = scale_test_data(test_data, scaler)\n",
    "num_classes = len(encoder.classes_)\n",
    "num_features = X_scaled.shape[1]\n",
    "print(num_features)\n",
    "features = train_meta.columns.tolist()\n",
    "features.remove('shot_id')\n",
    "features.remove(target)\n",
    "\n",
    "params = {\n",
    "    'base_score': 0.5, \n",
    "    'colsample_bylevel': 1,\n",
    "    'colsample_bytree': 0.8,\n",
    "    'learning_rate': 0.01,\n",
    "    'max_depth': 8,\n",
    "    'min_child_weight': 1,\n",
    "    'n_estimators': 600,\n",
    "    'nthread': -1,\n",
    "    'objective': 'binary:logistic',\n",
    "    'seed': 27,\n",
    "    'silent': True,\n",
    "    'subsample': 0.8\n",
    "}\n",
    "clf = xgb.XGBClassifier()\n",
    "clf.set_params(**params)\n",
    "clf.fit(train_meta[features], train_meta[target])"
   ]
  },
  {
   "cell_type": "code",
   "execution_count": 28,
   "metadata": {
    "collapsed": false,
    "scrolled": true
   },
   "outputs": [
    {
     "data": {
      "text/plain": [
       "<matplotlib.axes._subplots.AxesSubplot at 0x7f67014302b0>"
      ]
     },
     "execution_count": 28,
     "metadata": {},
     "output_type": "execute_result"
    },
    {
     "data": {
      "image/png": "[encoded data removed]",
      "text/plain": [
       "<matplotlib.figure.Figure at 0x7f6701df8978>"
      ]
     },
     "metadata": {},
     "output_type": "display_data"
    }
   ],
   "source": [
    "feature_importances = clf.booster().get_fscore()\n",
    "meta_features = ['meta_rf', 'meta_et', 'meta_xgb', 'meta_nn']\n",
    "raw = 0\n",
    "keys = list(feature_importances.keys())\n",
    "for key in keys:\n",
    "    if key not in meta_features:\n",
    "        raw += feature_importances[key]\n",
    "        feature_importances.pop(key, None)\n",
    "feature_importances['raw'] = raw\n",
    "pd.Series(feature_importances).sort_values(ascending=True).plot(kind='barh', title='Feature Importances')"
   ]
  },
  {
   "cell_type": "code",
   "execution_count": 13,
   "metadata": {
    "collapsed": false
   },
   "outputs": [
    {
     "name": "stdout",
     "output_type": "stream",
     "text": [
      "0.44616103047\n",
      "108\n",
      "0 76.83420944213867\n",
      "1 76.03630781173706\n",
      "2 79.07896280288696\n",
      "3 77.67452669143677\n",
      "4 78.20903062820435\n",
      "5 80.09393501281738\n",
      "6 80.23625206947327\n",
      "7 81.00965619087219\n",
      "8 79.85650944709778\n",
      "9 80.68876099586487\n",
      "10 83.323477268219\n",
      "11 81.68512463569641\n",
      "12 83.49224328994751\n",
      "13 83.31724643707275\n",
      "14 83.1957893371582\n",
      "15 82.25217390060425\n",
      "16 83.22520089149475\n",
      "17 80.95010304450989\n",
      "18 87.20300483703613\n",
      "19 82.01173567771912\n",
      "20 94.50144863128662\n",
      "21 84.81416249275208\n",
      "22 93.49802827835083\n",
      "23 85.00609922409058\n",
      "24 91.58385872840881\n",
      "25 96.57491755485535\n",
      "26 105.99097013473511\n",
      "27 100.3278796672821\n",
      "28 80.6134877204895\n",
      "29 107.15479946136475\n",
      "Wrote submission to file xgb_meta_30.csv.\n",
      "Wrote submission to file nn_meta_30.csv.\n",
      "Wrote submission to file avg_meta_30.csv.\n"
     ]
    }
   ],
   "source": [
    "train_meta = pd.concat([train_data_parts[0], train_data_parts[1]]).sort()\n",
    "cols = train_meta.columns.tolist()\n",
    "cols.remove('shot_made_flag')\n",
    "cols.append('shot_made_flag')\n",
    "X_scaled, y_scaled, encoder, scaler = scale_train_data(train_meta[cols])\n",
    "X_test_scaled, test_ids = scale_test_data(test_data, scaler)\n",
    "num_classes = len(encoder.classes_)\n",
    "num_features = X_scaled.shape[1]\n",
    "print(num_features)\n",
    "features = train_meta.columns.tolist()\n",
    "features.remove('shot_id')\n",
    "features.remove(target)\n",
    "\n",
    "pred1 = np.zeros(len(test_data)).astype(np.float32)\n",
    "pred2 = np.zeros(len(test_data)).astype(np.float32)\n",
    "\n",
    "runs = 30\n",
    "for i in range(runs):\n",
    "    start = time()\n",
    "    pred1 += lvl2_xgb()\n",
    "    pred2 += lvl2_nn()\n",
    "    print(i, time() - start)\n",
    "    \n",
    "pred1 = pred1 / runs\n",
    "pred2 = pred2 / runs\n",
    "pred = (pred1 + pred2) / 2\n",
    "\n",
    "make_submission(test_ids, pred1, 'xgb_meta_' + str(runs) + '.csv')\n",
    "make_submission(test_ids, pred2, 'nn_meta_' + str(runs) + '.csv')\n",
    "make_submission(test_ids, pred, 'avg_meta_' + str(runs) + '.csv')"
   ]
  }
 ],
 "metadata": {
  "kernelspec": {
   "display_name": "Python 3",
   "language": "python",
   "name": "python3"
  },
  "language_info": {
   "codemirror_mode": {
    "name": "ipython",
    "version": 3
   },
   "file_extension": ".py",
   "mimetype": "text/x-python",
   "name": "python",
   "nbconvert_exporter": "python",
   "pygments_lexer": "ipython3",
   "version": "3.5.1"
  }
 },
 "nbformat": 4,
 "nbformat_minor": 0
}
