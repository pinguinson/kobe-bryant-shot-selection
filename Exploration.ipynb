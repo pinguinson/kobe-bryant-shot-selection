{
 "cells": [
  {
   "cell_type": "code",
   "execution_count": 32,
   "metadata": {
    "collapsed": false
   },
   "outputs": [
    {
     "name": "stdout",
     "output_type": "stream",
     "text": [
      "The autoreload extension is already loaded. To reload it, use:\n",
      "  %reload_ext autoreload\n"
     ]
    },
    {
     "data": {
      "application/javascript": [
       "IPython.notebook.set_autosave_interval(15000)"
      ]
     },
     "metadata": {},
     "output_type": "display_data"
    },
    {
     "name": "stdout",
     "output_type": "stream",
     "text": [
      "Autosaving every 15 seconds\n"
     ]
    }
   ],
   "source": [
    "%matplotlib inline\n",
    "%load_ext autoreload\n",
    "%autoreload 5\n",
    "%autosave 15\n",
    "\n",
    "from time import time\n",
    "\n",
    "import pandas as pd\n",
    "import numpy as np\n",
    "\n",
    "import seaborn as sns\n",
    "import matplotlib.pyplot as plt\n",
    "\n",
    "from sklearn.feature_extraction.text import TfidfTransformer\n",
    "\n",
    "import xgboost as xgb"
   ]
  },
  {
   "cell_type": "code",
   "execution_count": 33,
   "metadata": {
    "collapsed": false
   },
   "outputs": [],
   "source": [
    "from nn_helper import scale_train_data, scale_test_data\n",
    "from loader import load_data, load_meta, make_submission"
   ]
  },
  {
   "cell_type": "code",
   "execution_count": 53,
   "metadata": {
    "collapsed": false
   },
   "outputs": [
    {
     "data": {
      "text/html": [
       "<div>\n",
       "<table border=\"1\" class=\"dataframe\">\n",
       "  <thead>\n",
       "    <tr style=\"text-align: right;\">\n",
       "      <th></th>\n",
       "      <th>shot_id</th>\n",
       "      <th>shot_distance</th>\n",
       "      <th>last_moment</th>\n",
       "      <th>away</th>\n",
       "      <th>period_1</th>\n",
       "      <th>period_2</th>\n",
       "      <th>period_3</th>\n",
       "      <th>period_4</th>\n",
       "      <th>period_5</th>\n",
       "      <th>period_6</th>\n",
       "      <th>...</th>\n",
       "      <th>meta_knn020</th>\n",
       "      <th>meta_knn040</th>\n",
       "      <th>meta_knn080</th>\n",
       "      <th>meta_knn160</th>\n",
       "      <th>meta_knn320</th>\n",
       "      <th>meta_logreg</th>\n",
       "      <th>meta_rf</th>\n",
       "      <th>meta_sgd</th>\n",
       "      <th>meta_xgb</th>\n",
       "      <th>meta_net</th>\n",
       "    </tr>\n",
       "  </thead>\n",
       "  <tbody>\n",
       "    <tr>\n",
       "      <th>0</th>\n",
       "      <td>2</td>\n",
       "      <td>15</td>\n",
       "      <td>False</td>\n",
       "      <td>True</td>\n",
       "      <td>1.0</td>\n",
       "      <td>0.0</td>\n",
       "      <td>0.0</td>\n",
       "      <td>0.0</td>\n",
       "      <td>0.0</td>\n",
       "      <td>0.0</td>\n",
       "      <td>...</td>\n",
       "      <td>0.30</td>\n",
       "      <td>0.325</td>\n",
       "      <td>0.350</td>\n",
       "      <td>0.31875</td>\n",
       "      <td>0.384375</td>\n",
       "      <td>0.278806</td>\n",
       "      <td>0.366212</td>\n",
       "      <td>0.304392</td>\n",
       "      <td>0.354917</td>\n",
       "      <td>0.246859</td>\n",
       "    </tr>\n",
       "    <tr>\n",
       "      <th>1</th>\n",
       "      <td>25</td>\n",
       "      <td>7</td>\n",
       "      <td>False</td>\n",
       "      <td>False</td>\n",
       "      <td>0.0</td>\n",
       "      <td>0.0</td>\n",
       "      <td>1.0</td>\n",
       "      <td>0.0</td>\n",
       "      <td>0.0</td>\n",
       "      <td>0.0</td>\n",
       "      <td>...</td>\n",
       "      <td>0.40</td>\n",
       "      <td>0.475</td>\n",
       "      <td>0.425</td>\n",
       "      <td>0.40625</td>\n",
       "      <td>0.431250</td>\n",
       "      <td>0.768993</td>\n",
       "      <td>0.678699</td>\n",
       "      <td>0.613597</td>\n",
       "      <td>0.781271</td>\n",
       "      <td>0.649674</td>\n",
       "    </tr>\n",
       "    <tr>\n",
       "      <th>2</th>\n",
       "      <td>53</td>\n",
       "      <td>7</td>\n",
       "      <td>False</td>\n",
       "      <td>False</td>\n",
       "      <td>1.0</td>\n",
       "      <td>0.0</td>\n",
       "      <td>0.0</td>\n",
       "      <td>0.0</td>\n",
       "      <td>0.0</td>\n",
       "      <td>0.0</td>\n",
       "      <td>...</td>\n",
       "      <td>0.30</td>\n",
       "      <td>0.400</td>\n",
       "      <td>0.350</td>\n",
       "      <td>0.41250</td>\n",
       "      <td>0.428125</td>\n",
       "      <td>0.264278</td>\n",
       "      <td>0.284780</td>\n",
       "      <td>0.319212</td>\n",
       "      <td>0.283519</td>\n",
       "      <td>0.288401</td>\n",
       "    </tr>\n",
       "    <tr>\n",
       "      <th>3</th>\n",
       "      <td>78</td>\n",
       "      <td>13</td>\n",
       "      <td>False</td>\n",
       "      <td>True</td>\n",
       "      <td>0.0</td>\n",
       "      <td>0.0</td>\n",
       "      <td>1.0</td>\n",
       "      <td>0.0</td>\n",
       "      <td>0.0</td>\n",
       "      <td>0.0</td>\n",
       "      <td>...</td>\n",
       "      <td>0.20</td>\n",
       "      <td>0.275</td>\n",
       "      <td>0.300</td>\n",
       "      <td>0.33750</td>\n",
       "      <td>0.356250</td>\n",
       "      <td>0.140113</td>\n",
       "      <td>0.286666</td>\n",
       "      <td>0.229547</td>\n",
       "      <td>0.225701</td>\n",
       "      <td>0.208433</td>\n",
       "    </tr>\n",
       "    <tr>\n",
       "      <th>4</th>\n",
       "      <td>102</td>\n",
       "      <td>0</td>\n",
       "      <td>False</td>\n",
       "      <td>True</td>\n",
       "      <td>0.0</td>\n",
       "      <td>0.0</td>\n",
       "      <td>1.0</td>\n",
       "      <td>0.0</td>\n",
       "      <td>0.0</td>\n",
       "      <td>0.0</td>\n",
       "      <td>...</td>\n",
       "      <td>0.85</td>\n",
       "      <td>0.850</td>\n",
       "      <td>0.725</td>\n",
       "      <td>0.66875</td>\n",
       "      <td>0.559375</td>\n",
       "      <td>0.984972</td>\n",
       "      <td>0.990961</td>\n",
       "      <td>0.804818</td>\n",
       "      <td>0.946610</td>\n",
       "      <td>0.920623</td>\n",
       "    </tr>\n",
       "  </tbody>\n",
       "</table>\n",
       "<p>5 rows × 159 columns</p>\n",
       "</div>"
      ],
      "text/plain": [
       "   shot_id  shot_distance last_moment   away  period_1  period_2  period_3  \\\n",
       "0        2             15       False   True       1.0       0.0       0.0   \n",
       "1       25              7       False  False       0.0       0.0       1.0   \n",
       "2       53              7       False  False       1.0       0.0       0.0   \n",
       "3       78             13       False   True       0.0       0.0       1.0   \n",
       "4      102              0       False   True       0.0       0.0       1.0   \n",
       "\n",
       "   period_4  period_5  period_6    ...     meta_knn020  meta_knn040  \\\n",
       "0       0.0       0.0       0.0    ...            0.30        0.325   \n",
       "1       0.0       0.0       0.0    ...            0.40        0.475   \n",
       "2       0.0       0.0       0.0    ...            0.30        0.400   \n",
       "3       0.0       0.0       0.0    ...            0.20        0.275   \n",
       "4       0.0       0.0       0.0    ...            0.85        0.850   \n",
       "\n",
       "   meta_knn080  meta_knn160  meta_knn320  meta_logreg   meta_rf  meta_sgd  \\\n",
       "0        0.350      0.31875     0.384375     0.278806  0.366212  0.304392   \n",
       "1        0.425      0.40625     0.431250     0.768993  0.678699  0.613597   \n",
       "2        0.350      0.41250     0.428125     0.264278  0.284780  0.319212   \n",
       "3        0.300      0.33750     0.356250     0.140113  0.286666  0.229547   \n",
       "4        0.725      0.66875     0.559375     0.984972  0.990961  0.804818   \n",
       "\n",
       "   meta_xgb  meta_net  \n",
       "0  0.354917  0.246859  \n",
       "1  0.781271  0.649674  \n",
       "2  0.283519  0.288401  \n",
       "3  0.225701  0.208433  \n",
       "4  0.946610  0.920623  \n",
       "\n",
       "[5 rows x 159 columns]"
      ]
     },
     "execution_count": 53,
     "metadata": {},
     "output_type": "execute_result"
    }
   ],
   "source": [
    "train, test = load_meta('train_meta.csv', 'test_meta.csv')\n",
    "train.head()"
   ]
  },
  {
   "cell_type": "code",
   "execution_count": 54,
   "metadata": {
    "collapsed": false
   },
   "outputs": [
    {
     "data": {
      "text/plain": [
       "159"
      ]
     },
     "execution_count": 54,
     "metadata": {},
     "output_type": "execute_result"
    }
   ],
   "source": [
    "len(train.columns)"
   ]
  },
  {
   "cell_type": "code",
   "execution_count": 44,
   "metadata": {
    "collapsed": false
   },
   "outputs": [
    {
     "data": {
      "text/plain": [
       "array([[ 0.91416156,  0.        ,  0.08473919, ...,  0.01876492,\n",
       "         0.02071074,  0.0190956 ],\n",
       "       [ 0.92497784,  0.        ,  0.08038295, ...,  0.01991216,\n",
       "         0.00982303,  0.01449115],\n",
       "       [ 0.95849454,  0.        ,  0.06057864, ...,  0.01455158,\n",
       "         0.01480577,  0.01274105],\n",
       "       ..., \n",
       "       [ 0.93665266,  0.        ,  0.        , ...,  0.01512989,\n",
       "         0.01136801,  0.01397529],\n",
       "       [ 0.9675473 ,  0.        ,  0.        , ...,  0.00990449,\n",
       "         0.00632314,  0.00777337],\n",
       "       [ 0.720254  ,  0.        ,  0.        , ...,  0.02094186,\n",
       "         0.02622484,  0.02794096]], dtype=float32)"
      ]
     },
     "execution_count": 44,
     "metadata": {},
     "output_type": "execute_result"
    }
   ],
   "source": [
    "tfidf_trans = TfidfTransformer()\n",
    "features = test.columns.tolist()\n",
    "features.remove('shot_id')\n",
    "X_tfidf = tfidf_trans.fit_transform(train[features].values.astype(np.float32)).toarray().astype(np.float32)\n",
    "X_tfidf"
   ]
  },
  {
   "cell_type": "code",
   "execution_count": 6,
   "metadata": {
    "collapsed": false
   },
   "outputs": [],
   "source": [
    "clf = xgb.XGBClassifier(base_score=0.5, colsample_bylevel=1, colsample_bytree=0.8, nthread=-1,\n",
    "                        learning_rate=0.01, max_depth=8, min_child_weight=1, n_estimators=600,\n",
    "                        objective='binary:logistic', seed=42, silent=True, subsample=0.8)"
   ]
  },
  {
   "cell_type": "code",
   "execution_count": 7,
   "metadata": {
    "collapsed": false
   },
   "outputs": [
    {
     "data": {
      "text/plain": [
       "XGBClassifier(base_score=0.5, colsample_bylevel=1, colsample_bytree=0.8,\n",
       "       gamma=0, learning_rate=0.01, max_delta_step=0, max_depth=8,\n",
       "       min_child_weight=1, missing=None, n_estimators=600, nthread=-1,\n",
       "       objective='binary:logistic', reg_alpha=0, reg_lambda=1,\n",
       "       scale_pos_weight=1, seed=42, silent=True, subsample=0.8)"
      ]
     },
     "execution_count": 7,
     "metadata": {},
     "output_type": "execute_result"
    }
   ],
   "source": [
    "clf.fit(train.drop('shot_made_flag', axis=1), train.shot_made_flag)"
   ]
  },
  {
   "cell_type": "code",
   "execution_count": 8,
   "metadata": {
    "collapsed": true
   },
   "outputs": [],
   "source": [
    "predicted = clf.predict_proba(test)"
   ]
  },
  {
   "cell_type": "code",
   "execution_count": 10,
   "metadata": {
    "collapsed": false
   },
   "outputs": [],
   "source": [
    "predicted = predicted[:,1]"
   ]
  },
  {
   "cell_type": "code",
   "execution_count": 13,
   "metadata": {
    "collapsed": false
   },
   "outputs": [],
   "source": [
    "test['shot_made_flag'] = predicted"
   ]
  },
  {
   "cell_type": "code",
   "execution_count": 15,
   "metadata": {
    "collapsed": false
   },
   "outputs": [],
   "source": [
    "def make_prediction(predicted, ids, name):\n",
    "    with open(name, 'w') as f:\n",
    "        f.write('shot_id,shot_made_flag\\n')\n",
    "        for i, prob in zip(ids, predicted):\n",
    "            f.write(str(i) + ',' + str(prob) + '\\n')\n",
    "    print('Wrote submission to file {}.'.format(name))"
   ]
  },
  {
   "cell_type": "code",
   "execution_count": 16,
   "metadata": {
    "collapsed": false
   },
   "outputs": [
    {
     "name": "stdout",
     "output_type": "stream",
     "text": [
      "Wrote submission to file ensemble_xgb.csv.\n"
     ]
    }
   ],
   "source": [
    "make_prediction(predicted, test.shot_id, 'ensemble_xgb.csv')"
   ]
  },
  {
   "cell_type": "code",
   "execution_count": 21,
   "metadata": {
    "collapsed": false
   },
   "outputs": [
    {
     "data": {
      "text/plain": [
       "<matplotlib.axes._subplots.AxesSubplot at 0x7f21d9250048>"
      ]
     },
     "execution_count": 21,
     "metadata": {},
     "output_type": "execute_result"
    },
    {
     "data": {
      "image/png": "[encoded data removed]",
      "text/plain": [
       "<matplotlib.figure.Figure at 0x7f21dda07dd8>"
      ]
     },
     "metadata": {},
     "output_type": "display_data"
    }
   ],
   "source": [
    "feature_importances = clf.booster().get_fscore()\n",
    "raw = 0\n",
    "keys = list(feature_importances.keys())\n",
    "for key in keys:\n",
    "    if not key.startswith('meta'):\n",
    "        raw += feature_importances[key]\n",
    "        feature_importances.pop(key, None)\n",
    "feature_importances['raw'] = raw\n",
    "pd.Series(feature_importances).sort_values(ascending=True).plot(kind='barh', title='Feature Importances')"
   ]
  }
 ],
 "metadata": {
  "kernelspec": {
   "display_name": "Python 3",
   "language": "python",
   "name": "python3"
  },
  "language_info": {
   "codemirror_mode": {
    "name": "ipython",
    "version": 3
   },
   "file_extension": ".py",
   "mimetype": "text/x-python",
   "name": "python",
   "nbconvert_exporter": "python",
   "pygments_lexer": "ipython3",
   "version": "3.5.1"
  }
 },
 "nbformat": 4,
 "nbformat_minor": 0
}
