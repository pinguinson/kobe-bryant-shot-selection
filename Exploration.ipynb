{
 "cells": [
  {
   "cell_type": "code",
   "execution_count": 49,
   "metadata": {
    "collapsed": false
   },
   "outputs": [
    {
     "name": "stdout",
     "output_type": "stream",
     "text": [
      "The autoreload extension is already loaded. To reload it, use:\n",
      "  %reload_ext autoreload\n"
     ]
    },
    {
     "data": {
      "application/javascript": [
       "IPython.notebook.set_autosave_interval(15000)"
      ]
     },
     "metadata": {},
     "output_type": "display_data"
    },
    {
     "name": "stdout",
     "output_type": "stream",
     "text": [
      "Autosaving every 15 seconds\n"
     ]
    }
   ],
   "source": [
    "%matplotlib inline\n",
    "%load_ext autoreload\n",
    "%autoreload 5\n",
    "%autosave 15\n",
    "\n",
    "from time import time\n",
    "from math \n",
    "\n",
    "import pandas as pd\n",
    "import numpy as np\n",
    "\n",
    "import seaborn as sns\n",
    "import matplotlib.pyplot as plt\n",
    "\n",
    "import xgboost as xgb\n",
    "\n",
    "from sklearn.ensemble import RandomForestClassifier\n",
    "from sklearn.linear_model import LinearRegression\n",
    "from sklearn.metrics import log_loss, accuracy_score\n",
    "from sklearn.cross_validation import cross_val_score, train_test_split"
   ]
  },
  {
   "cell_type": "code",
   "execution_count": 36,
   "metadata": {
    "collapsed": false,
    "scrolled": true
   },
   "outputs": [
    {
     "data": {
      "text/html": [
       "<div>\n",
       "<table border=\"1\" class=\"dataframe\">\n",
       "  <thead>\n",
       "    <tr style=\"text-align: right;\">\n",
       "      <th></th>\n",
       "      <th>type</th>\n",
       "      <th>period</th>\n",
       "      <th>shot_zone_area</th>\n",
       "      <th>shot_zone_basic</th>\n",
       "      <th>shot_zone_range</th>\n",
       "      <th>opponent</th>\n",
       "      <th>season</th>\n",
       "      <th>shot_type</th>\n",
       "      <th>action_type</th>\n",
       "      <th>combined_shot_type</th>\n",
       "      <th>...</th>\n",
       "      <th>action_type_Turnaround Fadeaway shot</th>\n",
       "      <th>action_type_Turnaround Finger Roll Shot</th>\n",
       "      <th>action_type_Turnaround Hook Shot</th>\n",
       "      <th>action_type_Turnaround Jump Shot</th>\n",
       "      <th>combined_shot_type_Bank Shot</th>\n",
       "      <th>combined_shot_type_Dunk</th>\n",
       "      <th>combined_shot_type_Hook Shot</th>\n",
       "      <th>combined_shot_type_Jump Shot</th>\n",
       "      <th>combined_shot_type_Layup</th>\n",
       "      <th>combined_shot_type_Tip Shot</th>\n",
       "    </tr>\n",
       "  </thead>\n",
       "  <tbody>\n",
       "    <tr>\n",
       "      <th>0</th>\n",
       "      <td>Jump Shot</td>\n",
       "      <td>1</td>\n",
       "      <td>Right Side(R)</td>\n",
       "      <td>Mid-Range</td>\n",
       "      <td>16-24 ft.</td>\n",
       "      <td>POR</td>\n",
       "      <td>2000</td>\n",
       "      <td>2PT Field Goal</td>\n",
       "      <td>Jump Shot</td>\n",
       "      <td>Jump Shot</td>\n",
       "      <td>...</td>\n",
       "      <td>0.0</td>\n",
       "      <td>0.0</td>\n",
       "      <td>0.0</td>\n",
       "      <td>0.0</td>\n",
       "      <td>0.0</td>\n",
       "      <td>0.0</td>\n",
       "      <td>0.0</td>\n",
       "      <td>1.0</td>\n",
       "      <td>0.0</td>\n",
       "      <td>0.0</td>\n",
       "    </tr>\n",
       "    <tr>\n",
       "      <th>1</th>\n",
       "      <td>Jump Shot</td>\n",
       "      <td>1</td>\n",
       "      <td>Left Side(L)</td>\n",
       "      <td>Mid-Range</td>\n",
       "      <td>8-16 ft.</td>\n",
       "      <td>POR</td>\n",
       "      <td>2000</td>\n",
       "      <td>2PT Field Goal</td>\n",
       "      <td>Jump Shot</td>\n",
       "      <td>Jump Shot</td>\n",
       "      <td>...</td>\n",
       "      <td>0.0</td>\n",
       "      <td>0.0</td>\n",
       "      <td>0.0</td>\n",
       "      <td>0.0</td>\n",
       "      <td>0.0</td>\n",
       "      <td>0.0</td>\n",
       "      <td>0.0</td>\n",
       "      <td>1.0</td>\n",
       "      <td>0.0</td>\n",
       "      <td>0.0</td>\n",
       "    </tr>\n",
       "    <tr>\n",
       "      <th>2</th>\n",
       "      <td>Jump Shot</td>\n",
       "      <td>1</td>\n",
       "      <td>Left Side Center(LC)</td>\n",
       "      <td>Mid-Range</td>\n",
       "      <td>16-24 ft.</td>\n",
       "      <td>POR</td>\n",
       "      <td>2000</td>\n",
       "      <td>2PT Field Goal</td>\n",
       "      <td>Jump Shot</td>\n",
       "      <td>Jump Shot</td>\n",
       "      <td>...</td>\n",
       "      <td>0.0</td>\n",
       "      <td>0.0</td>\n",
       "      <td>0.0</td>\n",
       "      <td>0.0</td>\n",
       "      <td>0.0</td>\n",
       "      <td>0.0</td>\n",
       "      <td>0.0</td>\n",
       "      <td>1.0</td>\n",
       "      <td>0.0</td>\n",
       "      <td>0.0</td>\n",
       "    </tr>\n",
       "    <tr>\n",
       "      <th>3</th>\n",
       "      <td>Jump Shot</td>\n",
       "      <td>1</td>\n",
       "      <td>Right Side Center(RC)</td>\n",
       "      <td>Mid-Range</td>\n",
       "      <td>16-24 ft.</td>\n",
       "      <td>POR</td>\n",
       "      <td>2000</td>\n",
       "      <td>2PT Field Goal</td>\n",
       "      <td>Jump Shot</td>\n",
       "      <td>Jump Shot</td>\n",
       "      <td>...</td>\n",
       "      <td>0.0</td>\n",
       "      <td>0.0</td>\n",
       "      <td>0.0</td>\n",
       "      <td>0.0</td>\n",
       "      <td>0.0</td>\n",
       "      <td>0.0</td>\n",
       "      <td>0.0</td>\n",
       "      <td>1.0</td>\n",
       "      <td>0.0</td>\n",
       "      <td>0.0</td>\n",
       "    </tr>\n",
       "    <tr>\n",
       "      <th>4</th>\n",
       "      <td>Driving Dunk Shot</td>\n",
       "      <td>2</td>\n",
       "      <td>Center(C)</td>\n",
       "      <td>Restricted Area</td>\n",
       "      <td>Less Than 8 ft.</td>\n",
       "      <td>POR</td>\n",
       "      <td>2000</td>\n",
       "      <td>2PT Field Goal</td>\n",
       "      <td>Driving Dunk Shot</td>\n",
       "      <td>Dunk</td>\n",
       "      <td>...</td>\n",
       "      <td>0.0</td>\n",
       "      <td>0.0</td>\n",
       "      <td>0.0</td>\n",
       "      <td>0.0</td>\n",
       "      <td>0.0</td>\n",
       "      <td>1.0</td>\n",
       "      <td>0.0</td>\n",
       "      <td>0.0</td>\n",
       "      <td>0.0</td>\n",
       "      <td>0.0</td>\n",
       "    </tr>\n",
       "  </tbody>\n",
       "</table>\n",
       "<p>5 rows × 194 columns</p>\n",
       "</div>"
      ],
      "text/plain": [
       "                type  period         shot_zone_area  shot_zone_basic  \\\n",
       "0          Jump Shot       1          Right Side(R)        Mid-Range   \n",
       "1          Jump Shot       1           Left Side(L)        Mid-Range   \n",
       "2          Jump Shot       1   Left Side Center(LC)        Mid-Range   \n",
       "3          Jump Shot       1  Right Side Center(RC)        Mid-Range   \n",
       "4  Driving Dunk Shot       2              Center(C)  Restricted Area   \n",
       "\n",
       "   shot_zone_range opponent  season       shot_type        action_type  \\\n",
       "0        16-24 ft.      POR    2000  2PT Field Goal          Jump Shot   \n",
       "1         8-16 ft.      POR    2000  2PT Field Goal          Jump Shot   \n",
       "2        16-24 ft.      POR    2000  2PT Field Goal          Jump Shot   \n",
       "3        16-24 ft.      POR    2000  2PT Field Goal          Jump Shot   \n",
       "4  Less Than 8 ft.      POR    2000  2PT Field Goal  Driving Dunk Shot   \n",
       "\n",
       "  combined_shot_type             ...               \\\n",
       "0          Jump Shot             ...                \n",
       "1          Jump Shot             ...                \n",
       "2          Jump Shot             ...                \n",
       "3          Jump Shot             ...                \n",
       "4               Dunk             ...                \n",
       "\n",
       "   action_type_Turnaround Fadeaway shot  \\\n",
       "0                                   0.0   \n",
       "1                                   0.0   \n",
       "2                                   0.0   \n",
       "3                                   0.0   \n",
       "4                                   0.0   \n",
       "\n",
       "   action_type_Turnaround Finger Roll Shot  action_type_Turnaround Hook Shot  \\\n",
       "0                                      0.0                               0.0   \n",
       "1                                      0.0                               0.0   \n",
       "2                                      0.0                               0.0   \n",
       "3                                      0.0                               0.0   \n",
       "4                                      0.0                               0.0   \n",
       "\n",
       "   action_type_Turnaround Jump Shot  combined_shot_type_Bank Shot  \\\n",
       "0                               0.0                           0.0   \n",
       "1                               0.0                           0.0   \n",
       "2                               0.0                           0.0   \n",
       "3                               0.0                           0.0   \n",
       "4                               0.0                           0.0   \n",
       "\n",
       "   combined_shot_type_Dunk  combined_shot_type_Hook Shot  \\\n",
       "0                      0.0                           0.0   \n",
       "1                      0.0                           0.0   \n",
       "2                      0.0                           0.0   \n",
       "3                      0.0                           0.0   \n",
       "4                      1.0                           0.0   \n",
       "\n",
       "   combined_shot_type_Jump Shot  combined_shot_type_Layup  \\\n",
       "0                           1.0                       0.0   \n",
       "1                           1.0                       0.0   \n",
       "2                           1.0                       0.0   \n",
       "3                           1.0                       0.0   \n",
       "4                           0.0                       0.0   \n",
       "\n",
       "   combined_shot_type_Tip Shot  \n",
       "0                          0.0  \n",
       "1                          0.0  \n",
       "2                          0.0  \n",
       "3                          0.0  \n",
       "4                          0.0  \n",
       "\n",
       "[5 rows x 194 columns]"
      ]
     },
     "execution_count": 36,
     "metadata": {},
     "output_type": "execute_result"
    }
   ],
   "source": [
    "# load data\n",
    "data = pd.read_csv('data.csv')\n",
    "total_actions = dict(data.action_type.value_counts())\n",
    "# TODO: tune this parameter\n",
    "threshold = 100\n",
    "# TODO: check if it's needed\n",
    "data['type'] = data.apply(lambda row: row['action_type'] if total_actions[row['action_type']] >= threshold \\\n",
    "                          else row['combined_shot_type'], axis=1)\n",
    "data['time_remaining'] = data.apply(lambda row: row['minutes_remaining'] * 60 + row['seconds_remaining'], axis=1)\n",
    "\n",
    "# TODO: tune this parameter\n",
    "threshold = 3\n",
    "# TODO: find out why he cant hit @ 14 secs to go\n",
    "anomaly = 14\n",
    "data['last_moment'] = data.apply(lambda row: row['time_remaining'] < threshold or row['time_remaining'] == anomaly, axis=1)\n",
    "data['away'] = data.matchup.str.contains('@')\n",
    "data['season'] = data.apply(lambda row: int(row['season'].split('-')[0]), axis=1)\n",
    "data['month'] = data.apply(lambda row: int(row['game_date'].split('-')[1]), axis=1)\n",
    "\n",
    "# remove outliers\n",
    "data['shot_distance'] = data.apply(lambda row: 28 if row['shot_distance'] > 28 else row['shot_distance'], axis=1)\n",
    "\n",
    "features = [\n",
    "    'time_remaining',\n",
    "    'shot_distance',\n",
    "    'last_moment',\n",
    "    'away',\n",
    "]\n",
    "binarize = [\n",
    "    'type',\n",
    "    'period',\n",
    "    'shot_zone_area',\n",
    "    'shot_zone_basic',\n",
    "    'shot_zone_range',\n",
    "    'opponent',\n",
    "    'season',\n",
    "    'shot_type',\n",
    "    'action_type',\n",
    "    'combined_shot_type'\n",
    "]  \n",
    "dummie_counter = {}\n",
    "for feature in binarize:\n",
    "    dummie_counter[feature] = len(data[feature].unique())\n",
    "    \n",
    "data = pd.concat([data[binarize], pd.get_dummies(data, columns=binarize)], axis=1)\n",
    "for col in data.columns.tolist():\n",
    "    for feature in binarize:\n",
    "        if col.startswith(feature) and col != feature:\n",
    "            features.append(col)\n",
    "data.head()"
   ]
  },
  {
   "cell_type": "code",
   "execution_count": 29,
   "metadata": {
    "collapsed": false
   },
   "outputs": [
    {
     "data": {
      "image/png": "[encoded data removed]",
      "text/plain": [
       "<matplotlib.figure.Figure at 0x7f3a07ac9ac8>"
      ]
     },
     "metadata": {},
     "output_type": "display_data"
    },
    {
     "data": {
      "image/png": "[encoded data removed]",
      "text/plain": [
       "<matplotlib.figure.Figure at 0x7f3a07ac99e8>"
      ]
     },
     "metadata": {},
     "output_type": "display_data"
    }
   ],
   "source": [
    "def get_acc(data, field):\n",
    "    ct = pd.crosstab(data.shot_made_flag, data[field]).apply(lambda x: x / x.sum(), axis=0)\n",
    "    x, y = ct.columns, ct.values[1, :]\n",
    "    plt.figure(figsize=(7, 5))\n",
    "    plt.plot(x, y)\n",
    "    plt.xlabel(field)\n",
    "    plt.ylabel('% shots made')\n",
    "    plt.show()\n",
    "    \n",
    "def plot_accuracy(data, field, sort=False):\n",
    "    ct = pd.crosstab(data.shot_made_flag, data[field]).apply(lambda x: x / x.sum(), axis=0)\n",
    "    temp = list(zip(ct.values[1, :], ct.columns))\n",
    "    if sort:\n",
    "        temp.sort()\n",
    "    new_map = {}\n",
    "    for index, (acc, old_number) in enumerate(temp):\n",
    "        new_map[old_number] = index\n",
    "    ct = pd.crosstab(data.shot_made_flag, data[field].map(new_map)).apply(lambda x: x / x.sum(), axis=0)\n",
    "    x, y = ct.columns, ct.values[1, :]\n",
    "    plt.plot(x, y)\n",
    "    plt.title('sorted = ' + str(sort))\n",
    "    plt.xlabel(field)\n",
    "    plt.ylabel('% shots made')\n",
    "\n",
    "def plot(data, field):\n",
    "    plt.figure(figsize=(14, 5))\n",
    "    plt.subplot(121)\n",
    "    plot_accuracy(data, field, sort=False)\n",
    "    plt.subplot(122)\n",
    "    plot_accuracy(data, field, sort=True)\n",
    "    plt.show()\n",
    "plot(data, 'season')\n",
    "plot(data, 'combined_shot_type')"
   ]
  },
  {
   "cell_type": "code",
   "execution_count": 37,
   "metadata": {
    "collapsed": false
   },
   "outputs": [
    {
     "name": "stdout",
     "output_type": "stream",
     "text": [
      "train size: 25697\n",
      "test size:  5000\n"
     ]
    }
   ],
   "source": [
    "# split into train and test\n",
    "train = data[~data['shot_made_flag'].isnull()]\n",
    "test = data[data['shot_made_flag'].isnull()]\n",
    "print('train size: ' + str(len(train)))\n",
    "print('test size:  ' + str(len(test)))"
   ]
  },
  {
   "cell_type": "code",
   "execution_count": 105,
   "metadata": {
    "collapsed": false
   },
   "outputs": [
    {
     "name": "stdout",
     "output_type": "stream",
     "text": [
      "(25697, 167)\n",
      "(25697,)\n"
     ]
    }
   ],
   "source": [
    "features = [\n",
    "    'shot_distance',\n",
    "    'last_moment',\n",
    "    'away',\n",
    "    'loc_x',\n",
    "    'loc_y'\n",
    "]\n",
    "binarize = [\n",
    "    'type',\n",
    "    'period',\n",
    "    'shot_zone_area',\n",
    "    'shot_zone_basic',\n",
    "    'shot_zone_range',\n",
    "    'opponent',\n",
    "    'season',\n",
    "    'action_type',\n",
    "    'combined_shot_type',\n",
    "]\n",
    "for col in data.columns.tolist():\n",
    "    for feature in binarize:\n",
    "        if col.startswith(feature) and col != feature:\n",
    "            features.append(col)\n",
    "            \n",
    "# prepare data for estimators\n",
    "target = 'shot_made_flag'\n",
    "X_test = test[features]\n",
    "X_train = train[features]\n",
    "y_train = train[target]\n",
    "print(X_train.shape)\n",
    "print(y_train.shape)"
   ]
  },
  {
   "cell_type": "code",
   "execution_count": 31,
   "metadata": {
    "collapsed": false
   },
   "outputs": [],
   "source": [
    "def modelfit(alg, dtrain, predictors, useTrainCV=True, cv_folds=5, early_stopping_rounds=50):    \n",
    "    if useTrainCV:\n",
    "        xgb_param = alg.get_xgb_params()\n",
    "        xgtrain = xgb.DMatrix(dtrain[predictors].values, label=dtrain[target].values)\n",
    "        cvresult = xgb.cv(xgb_param, xgtrain, num_boost_round=alg.get_params()['n_estimators'], nfold=cv_folds,\n",
    "                          early_stopping_rounds=early_stopping_rounds, metrics=['logloss'], show_progress=False)\n",
    "        alg.set_params(n_estimators=cvresult.shape[0])\n",
    "    \n",
    "    # Test params\n",
    "    X_train, X_valid, y_train, y_valid = train_test_split(dtrain[predictors], dtrain[target], test_size=0.2)\n",
    "    alg.fit(X_train, y_train, eval_metric='logloss')\n",
    "    y_pred = alg.predict_proba(X_valid)[:,1]\n",
    "    \n",
    "    result = log_loss(y_valid, y_pred)\n",
    "    print(result)\n",
    "    return result"
   ]
  },
  {
   "cell_type": "code",
   "execution_count": 88,
   "metadata": {
    "collapsed": true
   },
   "outputs": [],
   "source": [
    "params = {\n",
    "    'base_score': 0.5, \n",
    "    'colsample_bylevel': 1,\n",
    "    'colsample_bytree': 0.8,\n",
    "    'learning_rate': 0.01,\n",
    "    'max_depth': 8,\n",
    "    'min_child_weight': 1,\n",
    "    'n_estimators': 600,\n",
    "    'nthread': -1,\n",
    "    'objective': 'binary:logistic',\n",
    "    'seed': 27,\n",
    "    'silent': True,\n",
    "    'subsample': 0.8\n",
    "}\n",
    "clf = xgb.XGBClassifier()"
   ]
  },
  {
   "cell_type": "code",
   "execution_count": 69,
   "metadata": {
    "collapsed": false
   },
   "outputs": [
    {
     "name": "stdout",
     "output_type": "stream",
     "text": [
      "0.605483833647 : from 0.604224779713 to 0.606263764098\n"
     ]
    },
    {
     "data": {
      "text/plain": [
       "0.60548383364743819"
      ]
     },
     "execution_count": 69,
     "metadata": {},
     "output_type": "execute_result"
    }
   ],
   "source": [
    "get_default_score()"
   ]
  },
  {
   "cell_type": "code",
   "execution_count": 97,
   "metadata": {
    "collapsed": false,
    "scrolled": true
   },
   "outputs": [
    {
     "name": "stdout",
     "output_type": "stream",
     "text": [
      "getting default score...\n",
      "0.602509562014 : from 0.596696624468 to 0.611671906212\n",
      "deafult score is 0.602510\n",
      "finished in 855.67s\n",
      "\n",
      "testing time_remaining...\n",
      "0.600783422379 : from 0.595660987723 to 0.606585661815\n",
      "delta = 0.001726\n",
      "worth dropping\n",
      "finished in 559.64s\n",
      "\n",
      "testing shot_distance...\n",
      "0.59868477204 : from 0.594238437854 to 0.604483782642\n",
      "delta = 0.003825\n",
      "worth dropping\n",
      "finished in 509.55s\n",
      "\n",
      "testing last_moment...\n",
      "0.600073620313 : from 0.594820809386 to 0.609572602917\n",
      "delta = 0.002436\n",
      "worth dropping\n",
      "finished in 517.14s\n",
      "\n",
      "testing away...\n",
      "0.605536176501 : from 0.600806430053 to 0.60944752796\n",
      "delta = -0.003027\n",
      "finished in 526.96s\n",
      "\n",
      "testing loc_x...\n",
      "0.600721713332 : from 0.593941208436 to 0.610335723655\n",
      "delta = 0.001788\n",
      "worth dropping\n",
      "finished in 536.95s\n",
      "\n",
      "testing loc_y...\n",
      "0.602206716919 : from 0.596365861213 to 0.611979021355\n",
      "delta = 0.000303\n",
      "worth dropping\n",
      "finished in 547.79s\n",
      "\n",
      "testing type_Alley Oop Dunk Shot...\n"
     ]
    },
    {
     "ename": "KeyboardInterrupt",
     "evalue": "",
     "output_type": "error",
     "traceback": [
      "\u001b[1;31m---------------------------------------------------------------------------\u001b[0m",
      "\u001b[1;31mKeyboardInterrupt\u001b[0m                         Traceback (most recent call last)",
      "\u001b[1;32m<ipython-input-97-d6925e9d6e45>\u001b[0m in \u001b[0;36m<module>\u001b[1;34m()\u001b[0m\n\u001b[0;32m     68\u001b[0m         \u001b[0mprint\u001b[0m\u001b[1;33m(\u001b[0m\u001b[1;34m''\u001b[0m\u001b[1;33m)\u001b[0m\u001b[1;33m\u001b[0m\u001b[0m\n\u001b[0;32m     69\u001b[0m \u001b[1;33m\u001b[0m\u001b[0m\n\u001b[1;32m---> 70\u001b[1;33m \u001b[0mtest_parameters\u001b[0m\u001b[1;33m(\u001b[0m\u001b[1;33m)\u001b[0m\u001b[1;33m\u001b[0m\u001b[0m\n\u001b[0m",
      "\u001b[1;32m<ipython-input-97-d6925e9d6e45>\u001b[0m in \u001b[0;36mtest_parameters\u001b[1;34m()\u001b[0m\n\u001b[0;32m     61\u001b[0m         \u001b[0mstart_time\u001b[0m \u001b[1;33m=\u001b[0m \u001b[0mtime\u001b[0m\u001b[1;33m(\u001b[0m\u001b[1;33m)\u001b[0m\u001b[1;33m\u001b[0m\u001b[0m\n\u001b[0;32m     62\u001b[0m         \u001b[0mprint\u001b[0m\u001b[1;33m(\u001b[0m\u001b[1;34m'testing '\u001b[0m \u001b[1;33m+\u001b[0m \u001b[0mcol\u001b[0m \u001b[1;33m+\u001b[0m \u001b[1;34m'...'\u001b[0m\u001b[1;33m)\u001b[0m\u001b[1;33m\u001b[0m\u001b[0m\n\u001b[1;32m---> 63\u001b[1;33m         \u001b[0mdelta\u001b[0m \u001b[1;33m=\u001b[0m \u001b[0mdefault_score\u001b[0m \u001b[1;33m-\u001b[0m \u001b[0mtest_parameter\u001b[0m\u001b[1;33m(\u001b[0m\u001b[0mcol\u001b[0m\u001b[1;33m)\u001b[0m\u001b[1;33m\u001b[0m\u001b[0m\n\u001b[0m\u001b[0;32m     64\u001b[0m         \u001b[0mprint\u001b[0m\u001b[1;33m(\u001b[0m\u001b[1;34m'delta = '\u001b[0m \u001b[1;33m+\u001b[0m \u001b[1;34m'{0:.6f}'\u001b[0m\u001b[1;33m.\u001b[0m\u001b[0mformat\u001b[0m\u001b[1;33m(\u001b[0m\u001b[0mdelta\u001b[0m\u001b[1;33m)\u001b[0m\u001b[1;33m)\u001b[0m\u001b[1;33m\u001b[0m\u001b[0m\n\u001b[0;32m     65\u001b[0m         \u001b[1;32mif\u001b[0m \u001b[0mdelta\u001b[0m \u001b[1;33m>\u001b[0m \u001b[1;36m0\u001b[0m\u001b[1;33m:\u001b[0m\u001b[1;33m\u001b[0m\u001b[0m\n",
      "\u001b[1;32m<ipython-input-97-d6925e9d6e45>\u001b[0m in \u001b[0;36mtest_parameter\u001b[1;34m(param)\u001b[0m\n\u001b[0;32m     45\u001b[0m     \u001b[1;32mfor\u001b[0m \u001b[0mi\u001b[0m \u001b[1;32min\u001b[0m \u001b[0mrange\u001b[0m\u001b[1;33m(\u001b[0m\u001b[1;36m10\u001b[0m\u001b[1;33m)\u001b[0m\u001b[1;33m:\u001b[0m\u001b[1;33m\u001b[0m\u001b[0m\n\u001b[0;32m     46\u001b[0m         \u001b[0mX_train\u001b[0m\u001b[1;33m,\u001b[0m \u001b[0mX_valid\u001b[0m\u001b[1;33m,\u001b[0m \u001b[0my_train\u001b[0m\u001b[1;33m,\u001b[0m \u001b[0my_valid\u001b[0m \u001b[1;33m=\u001b[0m \u001b[0mtrain_test_split\u001b[0m\u001b[1;33m(\u001b[0m\u001b[0mtrain\u001b[0m\u001b[1;33m[\u001b[0m\u001b[0mnew_features\u001b[0m\u001b[1;33m]\u001b[0m\u001b[1;33m,\u001b[0m \u001b[0mtrain\u001b[0m\u001b[1;33m[\u001b[0m\u001b[0mtarget\u001b[0m\u001b[1;33m]\u001b[0m\u001b[1;33m,\u001b[0m \u001b[0mtest_size\u001b[0m\u001b[1;33m=\u001b[0m\u001b[1;36m0.2\u001b[0m\u001b[1;33m)\u001b[0m\u001b[1;33m\u001b[0m\u001b[0m\n\u001b[1;32m---> 47\u001b[1;33m         \u001b[0mclf\u001b[0m\u001b[1;33m.\u001b[0m\u001b[0mfit\u001b[0m\u001b[1;33m(\u001b[0m\u001b[0mX_train\u001b[0m\u001b[1;33m,\u001b[0m \u001b[0my_train\u001b[0m\u001b[1;33m,\u001b[0m \u001b[0meval_metric\u001b[0m\u001b[1;33m=\u001b[0m\u001b[1;34m'logloss'\u001b[0m\u001b[1;33m)\u001b[0m\u001b[1;33m\u001b[0m\u001b[0m\n\u001b[0m\u001b[0;32m     48\u001b[0m         \u001b[0my_pred\u001b[0m \u001b[1;33m=\u001b[0m \u001b[0mclf\u001b[0m\u001b[1;33m.\u001b[0m\u001b[0mpredict_proba\u001b[0m\u001b[1;33m(\u001b[0m\u001b[0mX_valid\u001b[0m\u001b[1;33m)\u001b[0m\u001b[1;33m[\u001b[0m\u001b[1;33m:\u001b[0m\u001b[1;33m,\u001b[0m\u001b[1;36m1\u001b[0m\u001b[1;33m]\u001b[0m\u001b[1;33m\u001b[0m\u001b[0m\n\u001b[0;32m     49\u001b[0m         \u001b[0mscores\u001b[0m\u001b[1;33m.\u001b[0m\u001b[0mappend\u001b[0m\u001b[1;33m(\u001b[0m\u001b[0mlog_loss\u001b[0m\u001b[1;33m(\u001b[0m\u001b[0my_valid\u001b[0m\u001b[1;33m,\u001b[0m \u001b[0my_pred\u001b[0m\u001b[1;33m)\u001b[0m\u001b[1;33m)\u001b[0m\u001b[1;33m\u001b[0m\u001b[0m\n",
      "\u001b[1;32m/home/pinguinson/kaggle/venv/lib/python3.5/site-packages/xgboost/sklearn.py\u001b[0m in \u001b[0;36mfit\u001b[1;34m(self, X, y, sample_weight, eval_set, eval_metric, early_stopping_rounds, verbose)\u001b[0m\n\u001b[0;32m    341\u001b[0m                               \u001b[0mearly_stopping_rounds\u001b[0m\u001b[1;33m=\u001b[0m\u001b[0mearly_stopping_rounds\u001b[0m\u001b[1;33m,\u001b[0m\u001b[1;33m\u001b[0m\u001b[0m\n\u001b[0;32m    342\u001b[0m                               \u001b[0mevals_result\u001b[0m\u001b[1;33m=\u001b[0m\u001b[0mevals_result\u001b[0m\u001b[1;33m,\u001b[0m \u001b[0mfeval\u001b[0m\u001b[1;33m=\u001b[0m\u001b[0mfeval\u001b[0m\u001b[1;33m,\u001b[0m\u001b[1;33m\u001b[0m\u001b[0m\n\u001b[1;32m--> 343\u001b[1;33m                               verbose_eval=verbose)\n\u001b[0m\u001b[0;32m    344\u001b[0m \u001b[1;33m\u001b[0m\u001b[0m\n\u001b[0;32m    345\u001b[0m         \u001b[1;32mif\u001b[0m \u001b[0mevals_result\u001b[0m\u001b[1;33m:\u001b[0m\u001b[1;33m\u001b[0m\u001b[0m\n",
      "\u001b[1;32m/home/pinguinson/kaggle/venv/lib/python3.5/site-packages/xgboost/training.py\u001b[0m in \u001b[0;36mtrain\u001b[1;34m(params, dtrain, num_boost_round, evals, obj, feval, maximize, early_stopping_rounds, evals_result, verbose_eval, learning_rates, xgb_model)\u001b[0m\n\u001b[0;32m    119\u001b[0m     \u001b[1;32mif\u001b[0m \u001b[1;32mnot\u001b[0m \u001b[0mearly_stopping_rounds\u001b[0m\u001b[1;33m:\u001b[0m\u001b[1;33m\u001b[0m\u001b[0m\n\u001b[0;32m    120\u001b[0m         \u001b[1;32mfor\u001b[0m \u001b[0mi\u001b[0m \u001b[1;32min\u001b[0m \u001b[0mrange\u001b[0m\u001b[1;33m(\u001b[0m\u001b[0mnum_boost_round\u001b[0m\u001b[1;33m)\u001b[0m\u001b[1;33m:\u001b[0m\u001b[1;33m\u001b[0m\u001b[0m\n\u001b[1;32m--> 121\u001b[1;33m             \u001b[0mbst\u001b[0m\u001b[1;33m.\u001b[0m\u001b[0mupdate\u001b[0m\u001b[1;33m(\u001b[0m\u001b[0mdtrain\u001b[0m\u001b[1;33m,\u001b[0m \u001b[0mi\u001b[0m\u001b[1;33m,\u001b[0m \u001b[0mobj\u001b[0m\u001b[1;33m)\u001b[0m\u001b[1;33m\u001b[0m\u001b[0m\n\u001b[0m\u001b[0;32m    122\u001b[0m             \u001b[0mnboost\u001b[0m \u001b[1;33m+=\u001b[0m \u001b[1;36m1\u001b[0m\u001b[1;33m\u001b[0m\u001b[0m\n\u001b[0;32m    123\u001b[0m             \u001b[1;32mif\u001b[0m \u001b[0mlen\u001b[0m\u001b[1;33m(\u001b[0m\u001b[0mevals\u001b[0m\u001b[1;33m)\u001b[0m \u001b[1;33m!=\u001b[0m \u001b[1;36m0\u001b[0m\u001b[1;33m:\u001b[0m\u001b[1;33m\u001b[0m\u001b[0m\n",
      "\u001b[1;32m/home/pinguinson/kaggle/venv/lib/python3.5/site-packages/xgboost/core.py\u001b[0m in \u001b[0;36mupdate\u001b[1;34m(self, dtrain, iteration, fobj)\u001b[0m\n\u001b[0;32m    692\u001b[0m \u001b[1;33m\u001b[0m\u001b[0m\n\u001b[0;32m    693\u001b[0m         \u001b[1;32mif\u001b[0m \u001b[0mfobj\u001b[0m \u001b[1;32mis\u001b[0m \u001b[1;32mNone\u001b[0m\u001b[1;33m:\u001b[0m\u001b[1;33m\u001b[0m\u001b[0m\n\u001b[1;32m--> 694\u001b[1;33m             \u001b[0m_check_call\u001b[0m\u001b[1;33m(\u001b[0m\u001b[0m_LIB\u001b[0m\u001b[1;33m.\u001b[0m\u001b[0mXGBoosterUpdateOneIter\u001b[0m\u001b[1;33m(\u001b[0m\u001b[0mself\u001b[0m\u001b[1;33m.\u001b[0m\u001b[0mhandle\u001b[0m\u001b[1;33m,\u001b[0m \u001b[0miteration\u001b[0m\u001b[1;33m,\u001b[0m \u001b[0mdtrain\u001b[0m\u001b[1;33m.\u001b[0m\u001b[0mhandle\u001b[0m\u001b[1;33m)\u001b[0m\u001b[1;33m)\u001b[0m\u001b[1;33m\u001b[0m\u001b[0m\n\u001b[0m\u001b[0;32m    695\u001b[0m         \u001b[1;32melse\u001b[0m\u001b[1;33m:\u001b[0m\u001b[1;33m\u001b[0m\u001b[0m\n\u001b[0;32m    696\u001b[0m             \u001b[0mpred\u001b[0m \u001b[1;33m=\u001b[0m \u001b[0mself\u001b[0m\u001b[1;33m.\u001b[0m\u001b[0mpredict\u001b[0m\u001b[1;33m(\u001b[0m\u001b[0mdtrain\u001b[0m\u001b[1;33m)\u001b[0m\u001b[1;33m\u001b[0m\u001b[0m\n",
      "\u001b[1;31mKeyboardInterrupt\u001b[0m: "
     ]
    }
   ],
   "source": [
    "features_to_test = [\n",
    "    'time_remaining',\n",
    "    'shot_distance',\n",
    "    'last_moment',\n",
    "    'away',\n",
    "    'loc_x',\n",
    "    'loc_y'\n",
    "]\n",
    "binarize_to_test = [\n",
    "    'type',\n",
    "    'period',\n",
    "    'shot_zone_area',\n",
    "    'shot_zone_basic',\n",
    "    'shot_zone_range',\n",
    "    'opponent',\n",
    "    'season',\n",
    "    'shot_type',\n",
    "    'action_type',\n",
    "    'combined_shot_type'\n",
    "]\n",
    "for col in data.columns.tolist():\n",
    "    for feature in binarize_to_test:\n",
    "        if col.startswith(feature) and col != feature:\n",
    "            features_to_test.append(col)\n",
    "\n",
    "def get_default_score():\n",
    "    scores = []\n",
    "    for i in range(10):\n",
    "        X_train, X_valid, y_train, y_valid = train_test_split(train[features_to_test], train[target], test_size=0.2)\n",
    "        clf.fit(X_train, y_train, eval_metric='logloss')\n",
    "        y_pred = clf.predict_proba(X_valid)[:,1]\n",
    "        scores.append(log_loss(y_valid, y_pred))\n",
    "    print(np.mean(scores), ': from', np.min(scores), 'to', np.max(scores))\n",
    "    return np.mean(scores)\n",
    "\n",
    "def test_parameter(param):\n",
    "    new_features = list(features_to_test)\n",
    "    for col in new_features:\n",
    "        if col.startswith(param):\n",
    "            new_features.remove(col)\n",
    "    target = 'shot_made_flag'\n",
    "    clf = xgb.XGBClassifier()\n",
    "    clf.set_params(**params)\n",
    "    scores = []\n",
    "    for i in range(10):\n",
    "        X_train, X_valid, y_train, y_valid = train_test_split(train[new_features], train[target], test_size=0.2)\n",
    "        clf.fit(X_train, y_train, eval_metric='logloss')\n",
    "        y_pred = clf.predict_proba(X_valid)[:,1]\n",
    "        scores.append(log_loss(y_valid, y_pred))\n",
    "    print(np.mean(scores), ': from', np.min(scores), 'to', np.max(scores))\n",
    "    return np.mean(scores)\n",
    "\n",
    "def test_parameters():\n",
    "    start_time = time()\n",
    "    print('getting default score...')\n",
    "    default_score = get_default_score()\n",
    "    print('deafult score is ' + '{0:.6f}'.format(default_score))\n",
    "    print('finished in ' + '{0:.2f}'.format(time() - start_time) + 's')\n",
    "    print('')\n",
    "    for col in features_to_test + binarize_to_test:\n",
    "        start_time = time()\n",
    "        print('testing ' + col + '...')\n",
    "        delta = default_score - test_parameter(col)\n",
    "        print('delta = ' + '{0:.6f}'.format(delta))\n",
    "        if delta > 0:\n",
    "            print('worth dropping')\n",
    "        print('finished in ' + '{0:.2f}'.format(time() - start_time) + 's')\n",
    "        print('')\n",
    "        \n",
    "test_parameters()"
   ]
  },
  {
   "cell_type": "code",
   "execution_count": null,
   "metadata": {
    "collapsed": false,
    "scrolled": true
   },
   "outputs": [],
   "source": [
    "logloss = []\n",
    "tuning_param = 'seed'\n",
    "param_values = range(1,5)\n",
    "for i in param_values:\n",
    "    params[tuning_param] = i\n",
    "    clf.set_params(**params)\n",
    "    logloss.append(modelfit(clf, train, features))\n",
    "plt.plot(param_values, logloss)\n",
    "plt.xlabel(tuning_param)\n",
    "plt.ylabel('logloss')"
   ]
  },
  {
   "cell_type": "code",
   "execution_count": 133,
   "metadata": {
    "collapsed": false
   },
   "outputs": [
    {
     "name": "stdout",
     "output_type": "stream",
     "text": [
      "(25697, 149)\n",
      "(25697,)\n"
     ]
    }
   ],
   "source": [
    "features = [\n",
    "    'shot_distance',\n",
    "    'last_moment',\n",
    "    'away',\n",
    "    'loc_x',\n",
    "    'loc_y'\n",
    "]\n",
    "binarize = [\n",
    "    'type',\n",
    "    'period',\n",
    "    #'shot_zone_area',\n",
    "    #'shot_zone_basic',\n",
    "    #'shot_zone_range',\n",
    "    'opponent',\n",
    "    'season',\n",
    "    'action_type',\n",
    "    'combined_shot_type',\n",
    "]\n",
    "for col in data.columns.tolist():\n",
    "    for feature in binarize:\n",
    "        if col.startswith(feature) and col != feature:\n",
    "            features.append(col)\n",
    "            \n",
    "# prepare data for estimators\n",
    "target = 'shot_made_flag'\n",
    "X_test = test[features]\n",
    "X_train = train[features]\n",
    "y_train = train[target]\n",
    "print(X_train.shape)\n",
    "print(y_train.shape)"
   ]
  },
  {
   "cell_type": "code",
   "execution_count": 132,
   "metadata": {
    "collapsed": false
   },
   "outputs": [
    {
     "name": "stderr",
     "output_type": "stream",
     "text": [
      "Will train until cv error hasn't decreased in 50 rounds.\n",
      "Stopping. Best iteration: 496\n"
     ]
    },
    {
     "name": "stdout",
     "output_type": "stream",
     "text": [
      "0.601272687337\n"
     ]
    },
    {
     "data": {
      "text/plain": [
       "0.60127268733659667"
      ]
     },
     "execution_count": 132,
     "metadata": {},
     "output_type": "execute_result"
    }
   ],
   "source": [
    "# test current settings\n",
    "clf.set_params(**params)\n",
    "modelfit(clf, train, features)"
   ]
  },
  {
   "cell_type": "code",
   "execution_count": 130,
   "metadata": {
    "collapsed": false
   },
   "outputs": [
    {
     "data": {
      "text/plain": [
       "<matplotlib.axes._subplots.AxesSubplot at 0x7f39f885b5c0>"
      ]
     },
     "execution_count": 130,
     "metadata": {},
     "output_type": "execute_result"
    },
    {
     "data": {
      "image/png": "[encoded data removed]",
      "text/plain": [
       "<matplotlib.figure.Figure at 0x7f3a00e1e5c0>"
      ]
     },
     "metadata": {},
     "output_type": "display_data"
    }
   ],
   "source": [
    "# fit, predict and generate submission file\n",
    "clf = xgb.XGBClassifier()\n",
    "clf.set_params(**params)\n",
    "clf.fit(X_train, y_train)\n",
    "test.shot_made_flag = [i[1] for i in clf.predict_proba(X_test)]\n",
    "test[['shot_id', 'shot_made_flag']].to_csv('sub1.csv', index=False)\n",
    "\n",
    "# display feature importances\n",
    "# TODO: prettify this code\n",
    "feature_importances = clf.booster().get_fscore()\n",
    "to_pop = []\n",
    "for dummie in binarize:\n",
    "    feature_importances[dummie] = 0\n",
    "for feature in feature_importances:\n",
    "    for dummie in binarize:\n",
    "        if feature.startswith(dummie) and feature not in binarize:\n",
    "            feature_importances[dummie] += feature_importances[feature]\n",
    "            to_pop.append(feature)\n",
    "for feature in to_pop:\n",
    "    feature_importances.pop(feature, None)\n",
    "#for dummie in binarize:\n",
    "#    feature_importances[dummie] /= dummie_counter[dummie]\n",
    "feat_imp = pd.Series(feature_importances).sort_values(ascending=False)\n",
    "feat_imp.plot(kind='bar', title='Feature Importances')"
   ]
  },
  {
   "cell_type": "code",
   "execution_count": 138,
   "metadata": {
    "collapsed": false
   },
   "outputs": [
    {
     "data": {
      "text/plain": [
       "<matplotlib.axes._subplots.AxesSubplot at 0x7f39fa683630>"
      ]
     },
     "execution_count": 138,
     "metadata": {},
     "output_type": "execute_result"
    },
    {
     "data": {
      "image/png": "[encoded data removed]",
      "text/plain": [
       "<matplotlib.figure.Figure at 0x7f3a039092b0>"
      ]
     },
     "metadata": {},
     "output_type": "display_data"
    }
   ],
   "source": [
    "f, (ax1, ax2) = plt.subplots(1,2)\n",
    "sns.distplot(data.loc_x, ax=ax1)\n",
    "sns.distplot(data.loc_y, ax=ax2)"
   ]
  }
 ],
 "metadata": {
  "kernelspec": {
   "display_name": "Python 3",
   "language": "python",
   "name": "python3"
  },
  "language_info": {
   "codemirror_mode": {
    "name": "ipython",
    "version": 3
   },
   "file_extension": ".py",
   "mimetype": "text/x-python",
   "name": "python",
   "nbconvert_exporter": "python",
   "pygments_lexer": "ipython3",
   "version": "3.5.1"
  }
 },
 "nbformat": 4,
 "nbformat_minor": 0
}
