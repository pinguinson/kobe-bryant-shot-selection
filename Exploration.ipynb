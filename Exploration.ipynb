{
 "cells": [
  {
   "cell_type": "code",
   "execution_count": 4,
   "metadata": {
    "collapsed": false
   },
   "outputs": [
    {
     "name": "stdout",
     "output_type": "stream",
     "text": [
      "The autoreload extension is already loaded. To reload it, use:\n",
      "  %reload_ext autoreload\n"
     ]
    },
    {
     "data": {
      "application/javascript": [
       "IPython.notebook.set_autosave_interval(15000)"
      ]
     },
     "metadata": {},
     "output_type": "display_data"
    },
    {
     "name": "stdout",
     "output_type": "stream",
     "text": [
      "Autosaving every 15 seconds\n"
     ]
    }
   ],
   "source": [
    "%matplotlib inline\n",
    "%load_ext autoreload\n",
    "%autoreload 5\n",
    "%autosave 15\n",
    "\n",
    "from time import time\n",
    "\n",
    "import pandas as pd\n",
    "import numpy as np\n",
    "\n",
    "import seaborn as sns\n",
    "import matplotlib.pyplot as plt\n",
    "\n",
    "import xgboost as xgb\n",
    "\n",
    "from sklearn.ensemble import RandomForestClassifier\n",
    "from sklearn.linear_model import LinearRegression\n",
    "from sklearn.metrics import log_loss, accuracy_score\n",
    "from sklearn.cross_validation import cross_val_score, train_test_split"
   ]
  },
  {
   "cell_type": "code",
   "execution_count": 5,
   "metadata": {
    "collapsed": false,
    "scrolled": true
   },
   "outputs": [
    {
     "data": {
      "text/html": [
       "<div>\n",
       "<table border=\"1\" class=\"dataframe\">\n",
       "  <thead>\n",
       "    <tr style=\"text-align: right;\">\n",
       "      <th></th>\n",
       "      <th>period</th>\n",
       "      <th>shot_zone_area</th>\n",
       "      <th>shot_zone_basic</th>\n",
       "      <th>shot_zone_range</th>\n",
       "      <th>opponent</th>\n",
       "      <th>season</th>\n",
       "      <th>action_type</th>\n",
       "      <th>combined_shot_type</th>\n",
       "      <th>game_event_id</th>\n",
       "      <th>game_id</th>\n",
       "      <th>...</th>\n",
       "      <th>action_type_Turnaround Fadeaway shot</th>\n",
       "      <th>action_type_Turnaround Finger Roll Shot</th>\n",
       "      <th>action_type_Turnaround Hook Shot</th>\n",
       "      <th>action_type_Turnaround Jump Shot</th>\n",
       "      <th>combined_shot_type_Bank Shot</th>\n",
       "      <th>combined_shot_type_Dunk</th>\n",
       "      <th>combined_shot_type_Hook Shot</th>\n",
       "      <th>combined_shot_type_Jump Shot</th>\n",
       "      <th>combined_shot_type_Layup</th>\n",
       "      <th>combined_shot_type_Tip Shot</th>\n",
       "    </tr>\n",
       "  </thead>\n",
       "  <tbody>\n",
       "    <tr>\n",
       "      <th>0</th>\n",
       "      <td>1</td>\n",
       "      <td>Right Side(R)</td>\n",
       "      <td>Mid-Range</td>\n",
       "      <td>16-24 ft.</td>\n",
       "      <td>POR</td>\n",
       "      <td>2000</td>\n",
       "      <td>Jump Shot</td>\n",
       "      <td>Jump Shot</td>\n",
       "      <td>10</td>\n",
       "      <td>20000012</td>\n",
       "      <td>...</td>\n",
       "      <td>0.0</td>\n",
       "      <td>0.0</td>\n",
       "      <td>0.0</td>\n",
       "      <td>0.0</td>\n",
       "      <td>0.0</td>\n",
       "      <td>0.0</td>\n",
       "      <td>0.0</td>\n",
       "      <td>1.0</td>\n",
       "      <td>0.0</td>\n",
       "      <td>0.0</td>\n",
       "    </tr>\n",
       "    <tr>\n",
       "      <th>1</th>\n",
       "      <td>1</td>\n",
       "      <td>Left Side(L)</td>\n",
       "      <td>Mid-Range</td>\n",
       "      <td>8-16 ft.</td>\n",
       "      <td>POR</td>\n",
       "      <td>2000</td>\n",
       "      <td>Jump Shot</td>\n",
       "      <td>Jump Shot</td>\n",
       "      <td>12</td>\n",
       "      <td>20000012</td>\n",
       "      <td>...</td>\n",
       "      <td>0.0</td>\n",
       "      <td>0.0</td>\n",
       "      <td>0.0</td>\n",
       "      <td>0.0</td>\n",
       "      <td>0.0</td>\n",
       "      <td>0.0</td>\n",
       "      <td>0.0</td>\n",
       "      <td>1.0</td>\n",
       "      <td>0.0</td>\n",
       "      <td>0.0</td>\n",
       "    </tr>\n",
       "    <tr>\n",
       "      <th>2</th>\n",
       "      <td>1</td>\n",
       "      <td>Left Side Center(LC)</td>\n",
       "      <td>Mid-Range</td>\n",
       "      <td>16-24 ft.</td>\n",
       "      <td>POR</td>\n",
       "      <td>2000</td>\n",
       "      <td>Jump Shot</td>\n",
       "      <td>Jump Shot</td>\n",
       "      <td>35</td>\n",
       "      <td>20000012</td>\n",
       "      <td>...</td>\n",
       "      <td>0.0</td>\n",
       "      <td>0.0</td>\n",
       "      <td>0.0</td>\n",
       "      <td>0.0</td>\n",
       "      <td>0.0</td>\n",
       "      <td>0.0</td>\n",
       "      <td>0.0</td>\n",
       "      <td>1.0</td>\n",
       "      <td>0.0</td>\n",
       "      <td>0.0</td>\n",
       "    </tr>\n",
       "    <tr>\n",
       "      <th>3</th>\n",
       "      <td>1</td>\n",
       "      <td>Right Side Center(RC)</td>\n",
       "      <td>Mid-Range</td>\n",
       "      <td>16-24 ft.</td>\n",
       "      <td>POR</td>\n",
       "      <td>2000</td>\n",
       "      <td>Jump Shot</td>\n",
       "      <td>Jump Shot</td>\n",
       "      <td>43</td>\n",
       "      <td>20000012</td>\n",
       "      <td>...</td>\n",
       "      <td>0.0</td>\n",
       "      <td>0.0</td>\n",
       "      <td>0.0</td>\n",
       "      <td>0.0</td>\n",
       "      <td>0.0</td>\n",
       "      <td>0.0</td>\n",
       "      <td>0.0</td>\n",
       "      <td>1.0</td>\n",
       "      <td>0.0</td>\n",
       "      <td>0.0</td>\n",
       "    </tr>\n",
       "    <tr>\n",
       "      <th>4</th>\n",
       "      <td>2</td>\n",
       "      <td>Center(C)</td>\n",
       "      <td>Restricted Area</td>\n",
       "      <td>Less Than 8 ft.</td>\n",
       "      <td>POR</td>\n",
       "      <td>2000</td>\n",
       "      <td>Driving Dunk Shot</td>\n",
       "      <td>Dunk</td>\n",
       "      <td>155</td>\n",
       "      <td>20000012</td>\n",
       "      <td>...</td>\n",
       "      <td>0.0</td>\n",
       "      <td>0.0</td>\n",
       "      <td>0.0</td>\n",
       "      <td>0.0</td>\n",
       "      <td>0.0</td>\n",
       "      <td>1.0</td>\n",
       "      <td>0.0</td>\n",
       "      <td>0.0</td>\n",
       "      <td>0.0</td>\n",
       "      <td>0.0</td>\n",
       "    </tr>\n",
       "  </tbody>\n",
       "</table>\n",
       "<p>5 rows × 171 columns</p>\n",
       "</div>"
      ],
      "text/plain": [
       "   period         shot_zone_area  shot_zone_basic  shot_zone_range opponent  \\\n",
       "0       1          Right Side(R)        Mid-Range        16-24 ft.      POR   \n",
       "1       1           Left Side(L)        Mid-Range         8-16 ft.      POR   \n",
       "2       1   Left Side Center(LC)        Mid-Range        16-24 ft.      POR   \n",
       "3       1  Right Side Center(RC)        Mid-Range        16-24 ft.      POR   \n",
       "4       2              Center(C)  Restricted Area  Less Than 8 ft.      POR   \n",
       "\n",
       "   season        action_type combined_shot_type  game_event_id   game_id  \\\n",
       "0    2000          Jump Shot          Jump Shot             10  20000012   \n",
       "1    2000          Jump Shot          Jump Shot             12  20000012   \n",
       "2    2000          Jump Shot          Jump Shot             35  20000012   \n",
       "3    2000          Jump Shot          Jump Shot             43  20000012   \n",
       "4    2000  Driving Dunk Shot               Dunk            155  20000012   \n",
       "\n",
       "              ...              action_type_Turnaround Fadeaway shot  \\\n",
       "0             ...                                               0.0   \n",
       "1             ...                                               0.0   \n",
       "2             ...                                               0.0   \n",
       "3             ...                                               0.0   \n",
       "4             ...                                               0.0   \n",
       "\n",
       "   action_type_Turnaround Finger Roll Shot  action_type_Turnaround Hook Shot  \\\n",
       "0                                      0.0                               0.0   \n",
       "1                                      0.0                               0.0   \n",
       "2                                      0.0                               0.0   \n",
       "3                                      0.0                               0.0   \n",
       "4                                      0.0                               0.0   \n",
       "\n",
       "   action_type_Turnaround Jump Shot  combined_shot_type_Bank Shot  \\\n",
       "0                               0.0                           0.0   \n",
       "1                               0.0                           0.0   \n",
       "2                               0.0                           0.0   \n",
       "3                               0.0                           0.0   \n",
       "4                               0.0                           0.0   \n",
       "\n",
       "   combined_shot_type_Dunk  combined_shot_type_Hook Shot  \\\n",
       "0                      0.0                           0.0   \n",
       "1                      0.0                           0.0   \n",
       "2                      0.0                           0.0   \n",
       "3                      0.0                           0.0   \n",
       "4                      1.0                           0.0   \n",
       "\n",
       "   combined_shot_type_Jump Shot  combined_shot_type_Layup  \\\n",
       "0                           1.0                       0.0   \n",
       "1                           1.0                       0.0   \n",
       "2                           1.0                       0.0   \n",
       "3                           1.0                       0.0   \n",
       "4                           0.0                       0.0   \n",
       "\n",
       "  combined_shot_type_Tip Shot  \n",
       "0                         0.0  \n",
       "1                         0.0  \n",
       "2                         0.0  \n",
       "3                         0.0  \n",
       "4                         0.0  \n",
       "\n",
       "[5 rows x 171 columns]"
      ]
     },
     "execution_count": 5,
     "metadata": {},
     "output_type": "execute_result"
    }
   ],
   "source": [
    "# load data\n",
    "data = pd.read_csv('data.csv')\n",
    "total_actions = dict(data.action_type.value_counts())\n",
    "# TODO: tune this parameter\n",
    "threshold = 100\n",
    "# TODO: check if it's needed\n",
    "data['type'] = data.apply(lambda row: row['action_type'] if total_actions[row['action_type']] >= threshold \\\n",
    "                          else row['combined_shot_type'], axis=1)\n",
    "data['time_remaining'] = data.apply(lambda row: row['minutes_remaining'] * 60 + row['seconds_remaining'], axis=1)\n",
    "\n",
    "# TODO: tune this parameter\n",
    "threshold = 3\n",
    "# TODO: find out why he cant hit @ 14 secs to go\n",
    "anomaly = 14\n",
    "data['last_moment'] = data.apply(lambda row: row['time_remaining'] < threshold or row['time_remaining'] == anomaly, axis=1)\n",
    "data['away'] = data.matchup.str.contains('@')\n",
    "data['season'] = data.apply(lambda row: int(row['season'].split('-')[0]), axis=1)\n",
    "data['month'] = data.apply(lambda row: int(row['game_date'].split('-')[1]), axis=1)\n",
    "\n",
    "# remove outliers\n",
    "data['shot_distance'] = data.apply(lambda row: 28 if row['shot_distance'] > 28 else row['shot_distance'], axis=1)\n",
    "\n",
    "features = [\n",
    "    'shot_distance',\n",
    "    'last_moment',\n",
    "    'away',\n",
    "]\n",
    "binarize = [\n",
    "    #'type',\n",
    "    'period',\n",
    "    'shot_zone_area',\n",
    "    'shot_zone_basic',\n",
    "    'shot_zone_range',\n",
    "    'opponent',\n",
    "    'season',\n",
    "    #'shot_type',\n",
    "    'action_type',\n",
    "    'combined_shot_type'\n",
    "]\n",
    "\n",
    "dummie_counter = {}\n",
    "for feature in binarize:\n",
    "    dummie_counter[feature] = len(data[feature].unique())\n",
    "    \n",
    "data = pd.concat([data[binarize], pd.get_dummies(data, columns=binarize)], axis=1)\n",
    "for col in data.columns.tolist():\n",
    "    for feature in binarize:\n",
    "        if col.startswith(feature) and col != feature:\n",
    "            features.append(col)\n",
    "data.head()"
   ]
  },
  {
   "cell_type": "code",
   "execution_count": 3,
   "metadata": {
    "collapsed": false
   },
   "outputs": [],
   "source": [
    "def get_acc(data, field):\n",
    "    ct = pd.crosstab(data.shot_made_flag, data[field]).apply(lambda x: x / x.sum(), axis=0)\n",
    "    x, y = ct.columns, ct.values[1, :]\n",
    "    plt.figure(figsize=(7, 5))\n",
    "    plt.plot(x, y)\n",
    "    plt.xlabel(field)\n",
    "    plt.ylabel('% shots made')\n",
    "    plt.show()\n",
    "    \n",
    "def plot_accuracy(data, field, sort=False):\n",
    "    ct = pd.crosstab(data.shot_made_flag, data[field]).apply(lambda x: x / x.sum(), axis=0)\n",
    "    temp = list(zip(ct.values[1, :], ct.columns))\n",
    "    if sort:\n",
    "        temp.sort()\n",
    "    new_map = {}\n",
    "    for index, (acc, old_number) in enumerate(temp):\n",
    "        new_map[old_number] = index\n",
    "    ct = pd.crosstab(data.shot_made_flag, data[field].map(new_map)).apply(lambda x: x / x.sum(), axis=0)\n",
    "    x, y = ct.columns, ct.values[1, :]\n",
    "    plt.plot(x, y)\n",
    "    plt.title('sorted = ' + str(sort))\n",
    "    plt.xlabel(field)\n",
    "    plt.ylabel('% shots made')\n",
    "\n",
    "def plot(data, field):\n",
    "    plt.figure(figsize=(14, 5))\n",
    "    plt.subplot(121)\n",
    "    plot_accuracy(data, field, sort=False)\n",
    "    plt.subplot(122)\n",
    "    plot_accuracy(data, field, sort=True)\n",
    "    plt.show()"
   ]
  },
  {
   "cell_type": "code",
   "execution_count": 6,
   "metadata": {
    "collapsed": false
   },
   "outputs": [
    {
     "name": "stdout",
     "output_type": "stream",
     "text": [
      "train size: 25697\n",
      "test size:  5000\n"
     ]
    }
   ],
   "source": [
    "# split into train and test\n",
    "train = data[~data['shot_made_flag'].isnull()]\n",
    "test = data[data['shot_made_flag'].isnull()]\n",
    "print('train size: ' + str(len(train)))\n",
    "print('test size:  ' + str(len(test)))"
   ]
  },
  {
   "cell_type": "code",
   "execution_count": 7,
   "metadata": {
    "collapsed": false
   },
   "outputs": [
    {
     "name": "stdout",
     "output_type": "stream",
     "text": [
      "(25697, 144)\n",
      "(25697,)\n"
     ]
    }
   ],
   "source": [
    "features = [\n",
    "    'shot_distance', \n",
    "    'last_moment', \n",
    "    'away'\n",
    "] \n",
    "binarize = [\n",
    "    'period', \n",
    "    'shot_zone_area',\n",
    "    'shot_zone_basic', \n",
    "    'shot_zone_range', \n",
    "    'opponent', \n",
    "    'season', \n",
    "    'action_type', \n",
    "    'combined_shot_type' \n",
    "] \n",
    "\n",
    "for col in data.columns.tolist():\n",
    "    for feature in binarize:\n",
    "        if col.startswith(feature) and col != feature:\n",
    "            features.append(col)\n",
    "            \n",
    "# prepare data for estimators\n",
    "target = 'shot_made_flag'\n",
    "X_test = test[features]\n",
    "X_train = train[features]\n",
    "y_train = train[target]\n",
    "print(X_train.shape)\n",
    "print(y_train.shape)"
   ]
  },
  {
   "cell_type": "code",
   "execution_count": 6,
   "metadata": {
    "collapsed": false
   },
   "outputs": [],
   "source": [
    "def modelfit(alg, dtrain, predictors, useTrainCV=True, cv_folds=5, early_stopping_rounds=50):    \n",
    "    if useTrainCV:\n",
    "        xgb_param = alg.get_xgb_params()\n",
    "        xgtrain = xgb.DMatrix(dtrain[predictors].values, label=dtrain[target].values)\n",
    "        cvresult = xgb.cv(xgb_param, xgtrain, num_boost_round=alg.get_params()['n_estimators'], nfold=cv_folds,\n",
    "                          early_stopping_rounds=early_stopping_rounds, metrics=['logloss'], show_progress=False)\n",
    "        alg.set_params(n_estimators=cvresult.shape[0])\n",
    "    \n",
    "    # Test params\n",
    "    X_train, X_valid, y_train, y_valid = train_test_split(dtrain[predictors], dtrain[target], test_size=0.2)\n",
    "    alg.fit(X_train, y_train, eval_metric='logloss')\n",
    "    y_pred = alg.predict_proba(X_valid)[:,1]\n",
    "    \n",
    "    result = log_loss(y_valid, y_pred)\n",
    "    print(result)\n",
    "    return result"
   ]
  },
  {
   "cell_type": "code",
   "execution_count": 7,
   "metadata": {
    "collapsed": true
   },
   "outputs": [],
   "source": [
    "params = {\n",
    "    'base_score': 0.5, \n",
    "    'colsample_bylevel': 1,\n",
    "    'colsample_bytree': 0.8,\n",
    "    'learning_rate': 0.01,\n",
    "    'max_depth': 8,\n",
    "    'min_child_weight': 1,\n",
    "    'n_estimators': 1000,\n",
    "    'nthread': -1,\n",
    "    'objective': 'binary:logistic',\n",
    "    'seed': 27,\n",
    "    'silent': True,\n",
    "    'subsample': 0.8\n",
    "}\n",
    "\n",
    "clf = xgb.XGBClassifier()"
   ]
  },
  {
   "cell_type": "code",
   "execution_count": 8,
   "metadata": {
    "collapsed": false
   },
   "outputs": [
    {
     "name": "stderr",
     "output_type": "stream",
     "text": [
      "C:\\Anaconda3\\lib\\site-packages\\pandas\\core\\generic.py:2698: SettingWithCopyWarning: \n",
      "A value is trying to be set on a copy of a slice from a DataFrame.\n",
      "Try using .loc[row_indexer,col_indexer] = value instead\n",
      "\n",
      "See the caveats in the documentation: http://pandas.pydata.org/pandas-docs/stable/indexing.html#indexing-view-versus-copy\n",
      "  self[name] = value\n"
     ]
    },
    {
     "data": {
      "text/plain": [
       "<matplotlib.axes._subplots.AxesSubplot at 0xab6ab70>"
      ]
     },
     "execution_count": 8,
     "metadata": {},
     "output_type": "execute_result"
    },
    {
     "data": {
      "image/png": "[encoded data removed]",
      "text/plain": [
       "<matplotlib.figure.Figure at 0x4476eb8>"
      ]
     },
     "metadata": {},
     "output_type": "display_data"
    }
   ],
   "source": [
    "# fit, predict and generate submission file\n",
    "clf = xgb.XGBClassifier()\n",
    "clf.set_params(**params)\n",
    "clf.fit(X_train, y_train)\n",
    "test.shot_made_flag = [i[1] for i in clf.predict_proba(X_test)]\n",
    "test[['shot_id', 'shot_made_flag']].to_csv('sub1.csv', index=False)\n",
    "\n",
    "# display feature importances\n",
    "# TODO: prettify this code\n",
    "feature_importances = clf.booster().get_fscore()\n",
    "to_pop = []\n",
    "for dummie in binarize:\n",
    "    feature_importances[dummie] = 0\n",
    "for feature in feature_importances:\n",
    "    for dummie in binarize:\n",
    "        if feature.startswith(dummie) and feature not in binarize:\n",
    "            feature_importances[dummie] += feature_importances[feature]\n",
    "            to_pop.append(feature)\n",
    "for feature in to_pop:\n",
    "    feature_importances.pop(feature, None)\n",
    "#for dummie in binarize:\n",
    "#    feature_importances[dummie] /= dummie_counter[dummie]\n",
    "feat_imp = pd.Series(feature_importances).sort_values(ascending=False)\n",
    "feat_imp.plot(kind='bar', title='Feature Importances')"
   ]
  },
  {
   "cell_type": "code",
   "execution_count": 23,
   "metadata": {
    "collapsed": false
   },
   "outputs": [
    {
     "name": "stdout",
     "output_type": "stream",
     "text": [
      "-----------------------------------------------------\n",
      "total (train,valid) Log Loss = (0.59862,0.60547). took 0.32 minutes\n",
      "-----------------------------------------------------\n"
     ]
    }
   ],
   "source": [
    "from sklearn.ensemble import ExtraTreesClassifier, RandomForestClassifier\n",
    "from sklearn import cross_validation\n",
    "from sklearn.metrics import accuracy_score as accuracy\n",
    "from sklearn.metrics import log_loss\n",
    "import time\n",
    "\n",
    "mainLearner = ExtraTreesClassifier(n_estimators=500, max_depth=5, \n",
    "                                   min_samples_leaf=100, max_features=100, \n",
    "                                   criterion='entropy', bootstrap=False, \n",
    "                                   n_jobs=-1, random_state=42)\n",
    "\n",
    "mainLearner = xgb.XGBClassifier(base_score=0.5, colsample_bylevel=1, \n",
    "                                 colsample_bytree=0.8, learning_rate=0.01, \n",
    "                                 max_depth=8, min_child_weight=1, n_estimators=1000, \n",
    "                                 nthread=-1, objective='binary:logistic', seed=27,\n",
    "                                 silent=False, subsample=0.8)\n",
    "\n",
    "mainLearner = RandomForestClassifier(n_estimators=300, n_jobs=-1)\n",
    "featuresDB = X_train[features].reset_index(drop=True)\n",
    "labelsDB = y_train.reset_index(drop=True)\n",
    "                        \n",
    "crossValidationIterator = cross_validation.StratifiedKFold(labelsDB, n_folds=5, shuffle=True, random_state=42)\n",
    "\n",
    "startTime = time.time()\n",
    "trainAccuracy = []; validAccuracy = [];\n",
    "trainLogLosses = []; validLogLosses = []\n",
    "for trainInds, validInds in crossValidationIterator:\n",
    "    # split to train and valid sets\n",
    "    X_train_CV = featuresDB.ix[trainInds,:]\n",
    "    y_train_CV = labelsDB.iloc[trainInds]\n",
    "    X_valid_CV = featuresDB.ix[validInds,:]\n",
    "    y_valid_CV = labelsDB.iloc[validInds]\n",
    "    \n",
    "    # train learner\n",
    "    mainLearner.fit(X_train_CV, y_train_CV)\n",
    "    \n",
    "    # make predictions\n",
    "    y_train_hat_mainLearner = mainLearner.predict_proba(X_train_CV)[:,1]\n",
    "    y_valid_hat_mainLearner = mainLearner.predict_proba(X_valid_CV)[:,1]\n",
    "\n",
    "    # store results\n",
    "    trainAccuracy.append(accuracy(y_train_CV, y_train_hat_mainLearner > 0.5))\n",
    "    validAccuracy.append(accuracy(y_valid_CV, y_valid_hat_mainLearner > 0.5))\n",
    "    trainLogLosses.append(log_loss(y_train_CV, y_train_hat_mainLearner))\n",
    "    validLogLosses.append(log_loss(y_valid_CV, y_valid_hat_mainLearner))\n",
    "\n",
    "print(\"-----------------------------------------------------\")\n",
    "print(\"total (train,valid) Accuracy = (%.5f,%.5f). took %.2f minutes\" % (np.mean(trainAccuracy),np.mean(validAccuracy), (time.time()-startTime)/60))\n",
    "print(\"total (train,valid) Log Loss = (%.5f,%.5f). took %.2f minutes\" % (np.mean(trainLogLosses),np.mean(validLogLosses), (time.time()-startTime)/60))\n",
    "print(\"-----------------------------------------------------\")"
   ]
  },
  {
   "cell_type": "code",
   "execution_count": 42,
   "metadata": {
    "collapsed": false
   },
   "outputs": [
    {
     "ename": "TypeError",
     "evalue": "unsupported operand type(s) for /: 'list' and 'int'",
     "output_type": "error",
     "traceback": [
      "\u001b[1;31m---------------------------------------------------------------------------\u001b[0m",
      "\u001b[1;31mTypeError\u001b[0m                                 Traceback (most recent call last)",
      "\u001b[1;32m<ipython-input-42-925b7440fbc8>\u001b[0m in \u001b[0;36m<module>\u001b[1;34m()\u001b[0m\n\u001b[1;32m----> 1\u001b[1;33m \u001b[1;33m[\u001b[0m\u001b[1;36m3\u001b[0m\u001b[1;33m,\u001b[0m \u001b[1;36m5\u001b[0m\u001b[1;33m,\u001b[0m \u001b[1;36m6\u001b[0m\u001b[1;33m]\u001b[0m \u001b[1;33m/\u001b[0m \u001b[1;36m5\u001b[0m\u001b[1;33m\u001b[0m\u001b[0m\n\u001b[0m",
      "\u001b[1;31mTypeError\u001b[0m: unsupported operand type(s) for /: 'list' and 'int'"
     ]
    }
   ],
   "source": [
    "[3, 5, 6] / 5"
   ]
  },
  {
   "cell_type": "code",
   "execution_count": 36,
   "metadata": {
    "collapsed": false
   },
   "outputs": [
    {
     "name": "stdout",
     "output_type": "stream",
     "text": [
      "5 0.420378\n",
      "15 0.349579\n",
      "20 0.751427\n",
      "24 0.343663\n",
      "25 0.280992\n",
      "26 0.741917\n",
      "35 0.921959\n",
      "37 0.325641\n",
      "47 0.376277\n",
      "49 0.699394\n"
     ]
    }
   ],
   "source": [
    "counter = 0\n",
    "for index, value in zip(res[0][1], res[0][0]):\n",
    "    counter += 1\n",
    "    print(index, value)\n",
    "    if counter == 10:\n",
    "        break"
   ]
  },
  {
   "cell_type": "code",
   "execution_count": 106,
   "metadata": {
    "collapsed": false
   },
   "outputs": [
    {
     "data": {
      "image/png": "[encoded data removed]",
      "text/plain": [
       "<matplotlib.figure.Figure at 0x1911ef98>"
      ]
     },
     "metadata": {},
     "output_type": "display_data"
    }
   ],
   "source": [
    "valid_loss = cv_res['test-logloss-mean'][200:]\n",
    "train_loss = cv_res['train-logloss-mean'][200:]\n",
    "#plt.plot(train_loss, linewidth=3, label=\"train\")\n",
    "plt.plot(valid_loss, linewidth=3, label=\"valid\")\n",
    "plt.grid()\n",
    "plt.legend()\n",
    "plt.xlabel(\"epoch\")\n",
    "plt.ylabel(\"loss\")\n",
    "lb = min(valid_loss.min(), valid_loss.min())\n",
    "ub = max(valid_loss.max(), valid_loss.max())\n",
    "delta = (ub - lb) / 20\n",
    "plt.ylim(lb - delta, ub + delta)\n",
    "plt.yscale(\"log\")\n",
    "plt.show()"
   ]
  },
  {
   "cell_type": "code",
   "execution_count": 20,
   "metadata": {
    "collapsed": false
   },
   "outputs": [
    {
     "name": "stdout",
     "output_type": "stream",
     "text": [
      "[ 0.42037845  0.3495791   0.75142735 ...,  0.31653431  0.17588918\n",
      "  0.31469959]\n",
      "[    5    15    20 ..., 25673 25684 25695]\n"
     ]
    }
   ],
   "source": []
  }
 ],
 "metadata": {
  "kernelspec": {
   "display_name": "Python 3",
   "language": "python",
   "name": "python3"
  },
  "language_info": {
   "codemirror_mode": {
    "name": "ipython",
    "version": 3
   },
   "file_extension": ".py",
   "mimetype": "text/x-python",
   "name": "python",
   "nbconvert_exporter": "python",
   "pygments_lexer": "ipython3",
   "version": "3.5.1"
  }
 },
 "nbformat": 4,
 "nbformat_minor": 0
}
